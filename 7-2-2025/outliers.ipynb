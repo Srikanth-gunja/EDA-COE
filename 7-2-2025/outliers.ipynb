{
 "cells": [
  {
   "cell_type": "markdown",
   "id": "a7fa9fd1",
   "metadata": {},
   "source": [
    "### Outliers\n",
    "- An outlier is a data point or observation that significantly differs from the rest of the data in a dataset."
   ]
  },
  {
   "cell_type": "markdown",
   "id": "152ca1c7",
   "metadata": {},
   "source": [
    "Identify Outliers\n",
    "- using scatter plots\n",
    "- Box plot\n",
    "- using z score\n",
    "- using the IQR interquantile range"
   ]
  },
  {
   "cell_type": "code",
   "execution_count": 2,
   "id": "6104f231",
   "metadata": {},
   "outputs": [],
   "source": [
    "import numpy as np\n",
    "import pandas as pd\n",
    "import matplotlib.pyplot as plt\n",
    "import seaborn as sns\n",
    "from scipy.stats import zscore"
   ]
  },
  {
   "cell_type": "code",
   "execution_count": 4,
   "id": "05638762",
   "metadata": {},
   "outputs": [],
   "source": [
    "# Creating a sample dataset\n",
    "np.random.seed(42)\n",
    "data=np.random.normal(loc=50,scale=10,size=100) # loc-mean,scale-std\n",
    "outliers=np.array([10,110,5,120])\n",
    "data=np.concatenate([data,outliers])"
   ]
  },
  {
   "cell_type": "code",
   "execution_count": 8,
   "id": "7b2000ae",
   "metadata": {},
   "outputs": [
    {
     "data": {
      "text/plain": [
       "(104,)"
      ]
     },
     "execution_count": 8,
     "metadata": {},
     "output_type": "execute_result"
    }
   ],
   "source": [
    "data.shape"
   ]
  },
  {
   "cell_type": "code",
   "execution_count": 11,
   "id": "94d0dbc5",
   "metadata": {},
   "outputs": [
    {
     "data": {
      "text/html": [
       "<div>\n",
       "<style scoped>\n",
       "    .dataframe tbody tr th:only-of-type {\n",
       "        vertical-align: middle;\n",
       "    }\n",
       "\n",
       "    .dataframe tbody tr th {\n",
       "        vertical-align: top;\n",
       "    }\n",
       "\n",
       "    .dataframe thead th {\n",
       "        text-align: right;\n",
       "    }\n",
       "</style>\n",
       "<table border=\"1\" class=\"dataframe\">\n",
       "  <thead>\n",
       "    <tr style=\"text-align: right;\">\n",
       "      <th></th>\n",
       "      <th>Values</th>\n",
       "    </tr>\n",
       "  </thead>\n",
       "  <tbody>\n",
       "    <tr>\n",
       "      <th>0</th>\n",
       "      <td>54.967142</td>\n",
       "    </tr>\n",
       "    <tr>\n",
       "      <th>1</th>\n",
       "      <td>48.617357</td>\n",
       "    </tr>\n",
       "    <tr>\n",
       "      <th>2</th>\n",
       "      <td>56.476885</td>\n",
       "    </tr>\n",
       "    <tr>\n",
       "      <th>3</th>\n",
       "      <td>65.230299</td>\n",
       "    </tr>\n",
       "    <tr>\n",
       "      <th>4</th>\n",
       "      <td>47.658466</td>\n",
       "    </tr>\n",
       "  </tbody>\n",
       "</table>\n",
       "</div>"
      ],
      "text/plain": [
       "      Values\n",
       "0  54.967142\n",
       "1  48.617357\n",
       "2  56.476885\n",
       "3  65.230299\n",
       "4  47.658466"
      ]
     },
     "execution_count": 11,
     "metadata": {},
     "output_type": "execute_result"
    }
   ],
   "source": [
    "# Creating dataframe\n",
    "df=pd.DataFrame(data,columns=['Values'])\n",
    "df.head()"
   ]
  },
  {
   "cell_type": "code",
   "execution_count": 12,
   "id": "3ddda674",
   "metadata": {},
   "outputs": [
    {
     "data": {
      "text/html": [
       "<div>\n",
       "<style scoped>\n",
       "    .dataframe tbody tr th:only-of-type {\n",
       "        vertical-align: middle;\n",
       "    }\n",
       "\n",
       "    .dataframe tbody tr th {\n",
       "        vertical-align: top;\n",
       "    }\n",
       "\n",
       "    .dataframe thead th {\n",
       "        text-align: right;\n",
       "    }\n",
       "</style>\n",
       "<table border=\"1\" class=\"dataframe\">\n",
       "  <thead>\n",
       "    <tr style=\"text-align: right;\">\n",
       "      <th></th>\n",
       "      <th>Values</th>\n",
       "    </tr>\n",
       "  </thead>\n",
       "  <tbody>\n",
       "    <tr>\n",
       "      <th>99</th>\n",
       "      <td>47.654129</td>\n",
       "    </tr>\n",
       "    <tr>\n",
       "      <th>100</th>\n",
       "      <td>10.000000</td>\n",
       "    </tr>\n",
       "    <tr>\n",
       "      <th>101</th>\n",
       "      <td>110.000000</td>\n",
       "    </tr>\n",
       "    <tr>\n",
       "      <th>102</th>\n",
       "      <td>5.000000</td>\n",
       "    </tr>\n",
       "    <tr>\n",
       "      <th>103</th>\n",
       "      <td>120.000000</td>\n",
       "    </tr>\n",
       "  </tbody>\n",
       "</table>\n",
       "</div>"
      ],
      "text/plain": [
       "         Values\n",
       "99    47.654129\n",
       "100   10.000000\n",
       "101  110.000000\n",
       "102    5.000000\n",
       "103  120.000000"
      ]
     },
     "execution_count": 12,
     "metadata": {},
     "output_type": "execute_result"
    }
   ],
   "source": [
    "df.tail()"
   ]
  },
  {
   "cell_type": "markdown",
   "id": "8e9b4da7",
   "metadata": {},
   "source": [
    "#### Identifying the outliers"
   ]
  },
  {
   "cell_type": "markdown",
   "id": "a121e701",
   "metadata": {},
   "source": [
    "***1. using Scatter plot***"
   ]
  },
  {
   "cell_type": "code",
   "execution_count": 35,
   "id": "745bc028",
   "metadata": {
    "scrolled": false
   },
   "outputs": [
    {
     "data": {
      "image/png": "[encoded data removed]",
      "text/plain": [
       "<Figure size 640x480 with 1 Axes>"
      ]
     },
     "metadata": {},
     "output_type": "display_data"
    }
   ],
   "source": [
    "\n",
    "sns.scatterplot(df['Values'],color='black',label='DataPoints')\n",
    "plt.axhline(y=df['Values'].mean(),label='Mean',linestyle='--',color='red')\n",
    "# axhline (axis horizontal line)\n",
    "plt.xlabel('Index')\n",
    "plt.ylabel('Values')\n",
    "plt.title('Scatter plot to Identify the Outliers')\n",
    "plt.legend()\n",
    "plt.show()"
   ]
  },
  {
   "cell_type": "markdown",
   "id": "91febe13",
   "metadata": {},
   "source": [
    "***2. using Box plot***"
   ]
  },
  {
   "cell_type": "code",
   "execution_count": 39,
   "id": "63935a30",
   "metadata": {},
   "outputs": [
    {
     "data": {
      "image/png": "[encoded data removed]",
      "text/plain": [
       "<Figure size 640x480 with 1 Axes>"
      ]
     },
     "metadata": {},
     "output_type": "display_data"
    }
   ],
   "source": [
    "\n",
    "sns.boxplot(df,color='green')\n",
    "plt.title('Box Plot to Identify the outliers')\n",
    "plt.show()"
   ]
  },
  {
   "cell_type": "markdown",
   "id": "659753ba",
   "metadata": {},
   "source": [
    "***3. Using Z-Score***\n",
    "- Formula z = (X – μ) / σ\n",
    "- X => Data Point\n",
    "- μ =>  Mean of dataset\n",
    "- σ => Standard deviation\n",
    "\n",
    "Steps:\n",
    "1. compute zscore for each data point.\n",
    "2. if z-score >3 or z-score <-3 ,mark it as an outlier"
   ]
  },
  {
   "cell_type": "code",
   "execution_count": 46,
   "id": "946e077c",
   "metadata": {},
   "outputs": [
    {
     "data": {
      "text/html": [
       "<div>\n",
       "<style scoped>\n",
       "    .dataframe tbody tr th:only-of-type {\n",
       "        vertical-align: middle;\n",
       "    }\n",
       "\n",
       "    .dataframe tbody tr th {\n",
       "        vertical-align: top;\n",
       "    }\n",
       "\n",
       "    .dataframe thead th {\n",
       "        text-align: right;\n",
       "    }\n",
       "</style>\n",
       "<table border=\"1\" class=\"dataframe\">\n",
       "  <thead>\n",
       "    <tr style=\"text-align: right;\">\n",
       "      <th></th>\n",
       "      <th>Values</th>\n",
       "      <th>z-score</th>\n",
       "    </tr>\n",
       "  </thead>\n",
       "  <tbody>\n",
       "    <tr>\n",
       "      <th>101</th>\n",
       "      <td>110.0</td>\n",
       "      <td>4.328173</td>\n",
       "    </tr>\n",
       "    <tr>\n",
       "      <th>102</th>\n",
       "      <td>5.0</td>\n",
       "      <td>-3.175368</td>\n",
       "    </tr>\n",
       "    <tr>\n",
       "      <th>103</th>\n",
       "      <td>120.0</td>\n",
       "      <td>5.042796</td>\n",
       "    </tr>\n",
       "  </tbody>\n",
       "</table>\n",
       "</div>"
      ],
      "text/plain": [
       "     Values   z-score\n",
       "101   110.0  4.328173\n",
       "102     5.0 -3.175368\n",
       "103   120.0  5.042796"
      ]
     },
     "execution_count": 46,
     "metadata": {},
     "output_type": "execute_result"
    }
   ],
   "source": [
    "df['z-score']=zscore(df['Values'])\n",
    "df.loc[(df['z-score']>3) | (df['z-score']<-3)] # Outliers"
   ]
  },
  {
   "cell_type": "markdown",
   "id": "a5cd0e9d",
   "metadata": {},
   "source": [
    "***4. Interquartile Range (IQR) Method***\n",
    "\n",
    " IQR = Q3 - Q1\n",
    "Steps:\n",
    "1. Calculate Q1(25th percentile) and Q3(75th percentile)\n",
    "2. Compute IQR = Q3-Q1\n",
    "3. Define lower and upper bounds\n",
    "    - Lower Bound =Q1-1.5*IQR\n",
    "    - Upper Bound = Q3+1.5*IQR\n",
    "4. Any value outside these bounds is an outlier"
   ]
  },
  {
   "cell_type": "code",
   "execution_count": 51,
   "id": "f6af95d3",
   "metadata": {},
   "outputs": [],
   "source": [
    "Q1=df['Values'].quantile(0.25)\n",
    "Q3=df['Values'].quantile(0.75)\n",
    "IQR=Q3-Q1\n",
    "\n",
    "# Bounds \n",
    "lower_bound = Q1 - 1.5 * IQR\n",
    "upper_bound = Q3 + 1.5 * IQR"
   ]
  },
  {
   "cell_type": "code",
   "execution_count": 52,
   "id": "670fe820",
   "metadata": {},
   "outputs": [
    {
     "data": {
      "text/plain": [
       "27.17321545886533"
      ]
     },
     "execution_count": 52,
     "metadata": {},
     "output_type": "execute_result"
    }
   ],
   "source": [
    "lower_bound"
   ]
  },
  {
   "cell_type": "code",
   "execution_count": 53,
   "id": "2dba6f27",
   "metadata": {},
   "outputs": [
    {
     "data": {
      "text/plain": [
       "71.70971029326903"
      ]
     },
     "execution_count": 53,
     "metadata": {},
     "output_type": "execute_result"
    }
   ],
   "source": [
    "upper_bound"
   ]
  },
  {
   "cell_type": "code",
   "execution_count": 61,
   "id": "adb1e473",
   "metadata": {},
   "outputs": [
    {
     "data": {
      "text/html": [
       "<div>\n",
       "<style scoped>\n",
       "    .dataframe tbody tr th:only-of-type {\n",
       "        vertical-align: middle;\n",
       "    }\n",
       "\n",
       "    .dataframe tbody tr th {\n",
       "        vertical-align: top;\n",
       "    }\n",
       "\n",
       "    .dataframe thead th {\n",
       "        text-align: right;\n",
       "    }\n",
       "</style>\n",
       "<table border=\"1\" class=\"dataframe\">\n",
       "  <thead>\n",
       "    <tr style=\"text-align: right;\">\n",
       "      <th></th>\n",
       "      <th>Values</th>\n",
       "      <th>z-score</th>\n",
       "    </tr>\n",
       "  </thead>\n",
       "  <tbody>\n",
       "    <tr>\n",
       "      <th>74</th>\n",
       "      <td>23.802549</td>\n",
       "      <td>-1.831694</td>\n",
       "    </tr>\n",
       "    <tr>\n",
       "      <th>100</th>\n",
       "      <td>10.000000</td>\n",
       "      <td>-2.818056</td>\n",
       "    </tr>\n",
       "    <tr>\n",
       "      <th>101</th>\n",
       "      <td>110.000000</td>\n",
       "      <td>4.328173</td>\n",
       "    </tr>\n",
       "    <tr>\n",
       "      <th>102</th>\n",
       "      <td>5.000000</td>\n",
       "      <td>-3.175368</td>\n",
       "    </tr>\n",
       "    <tr>\n",
       "      <th>103</th>\n",
       "      <td>120.000000</td>\n",
       "      <td>5.042796</td>\n",
       "    </tr>\n",
       "  </tbody>\n",
       "</table>\n",
       "</div>"
      ],
      "text/plain": [
       "         Values   z-score\n",
       "74    23.802549 -1.831694\n",
       "100   10.000000 -2.818056\n",
       "101  110.000000  4.328173\n",
       "102    5.000000 -3.175368\n",
       "103  120.000000  5.042796"
      ]
     },
     "execution_count": 61,
     "metadata": {},
     "output_type": "execute_result"
    }
   ],
   "source": [
    "df.loc[(df['Values']<lower_bound) | (df['Values']>upper_bound) ] # Outliers"
   ]
  },
  {
   "cell_type": "markdown",
   "id": "4105a22f",
   "metadata": {},
   "source": [
    "***Final Summary***\n",
    "1. Scatter plot → Outliers appear far from the mainn cluster.\n",
    "2. Box Plot → Outliers are outside the whiskers\n",
    "3. zscore → Outliers are zscore>3 or zscroe <-3\n",
    "4. IQR → outside ( Q1-1.5*IQR,Q3+1.5*IQR)\n"
   ]
  },
  {
   "cell_type": "markdown",
   "id": "b15bec70",
   "metadata": {},
   "source": [
    "**Finding Outliers Using the IQR Method with a 5-Number Summary**\n",
    "The 5-number summary consists of:\n",
    " \n",
    "Minimum (Q0) → The smallest value in the dataset.\n",
    " \n",
    "First Quartile (Q1) → The 25th percentile (lower quartile).\n",
    " \n",
    "Median (Q2) → The 50th percentile (middle value).\n",
    " \n",
    "Third Quartile (Q3) → The 75th percentile (upper quartile).\n",
    " \n",
    "Maximum (Q4) → The largest value in the dataset."
   ]
  },
  {
   "cell_type": "markdown",
   "id": "958b1e17",
   "metadata": {},
   "source": [
    "The Interquartile Range (IQR) is calculated as:\n",
    " \n",
    "IQR=Q3−Q1\n",
    " \n",
    "Any value outside the range:\n",
    " \n",
    "[Q1−1.5×IQR,Q3+1.5×IQR]  is considered an outlier."
   ]
  },
  {
   "cell_type": "code",
   "execution_count": 63,
   "id": "ad5c0e5b",
   "metadata": {},
   "outputs": [
    {
     "data": {
      "text/html": [
       "<div>\n",
       "<style scoped>\n",
       "    .dataframe tbody tr th:only-of-type {\n",
       "        vertical-align: middle;\n",
       "    }\n",
       "\n",
       "    .dataframe tbody tr th {\n",
       "        vertical-align: top;\n",
       "    }\n",
       "\n",
       "    .dataframe thead th {\n",
       "        text-align: right;\n",
       "    }\n",
       "</style>\n",
       "<table border=\"1\" class=\"dataframe\">\n",
       "  <thead>\n",
       "    <tr style=\"text-align: right;\">\n",
       "      <th></th>\n",
       "      <th>Values</th>\n",
       "      <th>z-score</th>\n",
       "    </tr>\n",
       "  </thead>\n",
       "  <tbody>\n",
       "    <tr>\n",
       "      <th>0</th>\n",
       "      <td>54.967142</td>\n",
       "      <td>0.395399</td>\n",
       "    </tr>\n",
       "    <tr>\n",
       "      <th>1</th>\n",
       "      <td>48.617357</td>\n",
       "      <td>-0.058371</td>\n",
       "    </tr>\n",
       "    <tr>\n",
       "      <th>2</th>\n",
       "      <td>56.476885</td>\n",
       "      <td>0.503289</td>\n",
       "    </tr>\n",
       "    <tr>\n",
       "      <th>3</th>\n",
       "      <td>65.230299</td>\n",
       "      <td>1.128828</td>\n",
       "    </tr>\n",
       "    <tr>\n",
       "      <th>4</th>\n",
       "      <td>47.658466</td>\n",
       "      <td>-0.126896</td>\n",
       "    </tr>\n",
       "  </tbody>\n",
       "</table>\n",
       "</div>"
      ],
      "text/plain": [
       "      Values   z-score\n",
       "0  54.967142  0.395399\n",
       "1  48.617357 -0.058371\n",
       "2  56.476885  0.503289\n",
       "3  65.230299  1.128828\n",
       "4  47.658466 -0.126896"
      ]
     },
     "execution_count": 63,
     "metadata": {},
     "output_type": "execute_result"
    }
   ],
   "source": [
    "df.head()"
   ]
  },
  {
   "cell_type": "code",
   "execution_count": 74,
   "id": "f9de2abf",
   "metadata": {},
   "outputs": [
    {
     "name": "stdout",
     "output_type": "stream",
     "text": [
      "5-Number Summary:\n",
      "Q1 : 43.874401021766715,\n",
      "Q2 : 48.73043708220287,\n",
      "Q3 : 55.00852473036764,\n",
      "Max : 120.0,\n",
      "Min : 5.0\n",
      "Lower Bound :27.17321545886533,\n",
      "Upper Bound : 71.70971029326903\n",
      "Outliers are: [23.802548959102555, 10.0, 110.0, 5.0, 120.0]\n"
     ]
    }
   ],
   "source": [
    "Q1=df['Values'].quantile(0.25)\n",
    "Q2=df['Values'].median()\n",
    "Q3=df['Values'].quantile(0.75)\n",
    "min_value=df['Values'].min()\n",
    "max_value=df['Values'].max()\n",
    "\n",
    "IQR=Q3-Q1\n",
    "\n",
    "# Bounds \n",
    "lower_bound = Q1 - 1.5 * IQR\n",
    "upper_bound = Q3 + 1.5 * IQR\n",
    "\n",
    "print(f\"5-Number Summary:\\nQ1 : {Q1},\\nQ2 : {Q2},\\nQ3 : {Q3},\\nMax : {max_value},\\nMin : {min_value}\")\n",
    "print(f\"Lower Bound :{lower_bound},\\nUpper Bound : {upper_bound}\")\n",
    "print(f\"Outliers are: {list((df.loc[(df['Values']<lower_bound) | (df['Values']>upper_bound) ]).Values)}\") # Outliers"
   ]
  },
  {
   "cell_type": "code",
   "execution_count": null,
   "id": "f2d698d4",
   "metadata": {},
   "outputs": [],
   "source": []
  }
 ],
 "metadata": {
  "kernelspec": {
   "display_name": "Python 3 (ipykernel)",
   "language": "python",
   "name": "python3"
  },
  "language_info": {
   "codemirror_mode": {
    "name": "ipython",
    "version": 3
   },
   "file_extension": ".py",
   "mimetype": "text/x-python",
   "name": "python",
   "nbconvert_exporter": "python",
   "pygments_lexer": "ipython3",
   "version": "3.11.5"
  }
 },
 "nbformat": 4,
 "nbformat_minor": 5
}
