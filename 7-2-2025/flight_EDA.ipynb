{
 "cells": [
  {
   "cell_type": "code",
   "execution_count": 1,
   "id": "d52c3d9c-51af-4c1a-9d4c-6184f98972b6",
   "metadata": {},
   "outputs": [],
   "source": [
    "import pandas as pd\n",
    "import numpy as np\n",
    "import warnings\n",
    "warnings. filterwarnings('ignore')"
   ]
  },
  {
   "cell_type": "markdown",
   "id": "a0877da6-9f88-411f-b3cf-1ca71762eec5",
   "metadata": {},
   "source": [
    "#### Loading the Data"
   ]
  },
  {
   "cell_type": "code",
   "execution_count": 3,
   "id": "6f3a6b34-1b99-451d-a83b-b755c9fcf340",
   "metadata": {},
   "outputs": [
    {
     "data": {
      "text/html": [
       "<div>\n",
       "<style scoped>\n",
       "    .dataframe tbody tr th:only-of-type {\n",
       "        vertical-align: middle;\n",
       "    }\n",
       "\n",
       "    .dataframe tbody tr th {\n",
       "        vertical-align: top;\n",
       "    }\n",
       "\n",
       "    .dataframe thead th {\n",
       "        text-align: right;\n",
       "    }\n",
       "</style>\n",
       "<table border=\"1\" class=\"dataframe\">\n",
       "  <thead>\n",
       "    <tr style=\"text-align: right;\">\n",
       "      <th></th>\n",
       "      <th>Airline</th>\n",
       "      <th>Date_of_Journey</th>\n",
       "      <th>Source</th>\n",
       "      <th>Destination</th>\n",
       "      <th>Route</th>\n",
       "      <th>Dep_Time</th>\n",
       "      <th>Arrival_Time</th>\n",
       "      <th>Duration</th>\n",
       "      <th>Total_Stops</th>\n",
       "      <th>Additional_Info</th>\n",
       "      <th>Price</th>\n",
       "    </tr>\n",
       "  </thead>\n",
       "  <tbody>\n",
       "    <tr>\n",
       "      <th>0</th>\n",
       "      <td>IndiGo</td>\n",
       "      <td>24/03/2019</td>\n",
       "      <td>Banglore</td>\n",
       "      <td>New Delhi</td>\n",
       "      <td>BLR ? DEL</td>\n",
       "      <td>22:20</td>\n",
       "      <td>01:10 22 Mar</td>\n",
       "      <td>2h 50m</td>\n",
       "      <td>non-stop</td>\n",
       "      <td>No info</td>\n",
       "      <td>3897</td>\n",
       "    </tr>\n",
       "  </tbody>\n",
       "</table>\n",
       "</div>"
      ],
      "text/plain": [
       "  Airline Date_of_Journey    Source Destination      Route Dep_Time  \\\n",
       "0  IndiGo      24/03/2019  Banglore   New Delhi  BLR ? DEL    22:20   \n",
       "\n",
       "   Arrival_Time Duration Total_Stops Additional_Info  Price  \n",
       "0  01:10 22 Mar   2h 50m    non-stop         No info   3897  "
      ]
     },
     "execution_count": 3,
     "metadata": {},
     "output_type": "execute_result"
    }
   ],
   "source": [
    "df=pd.read_csv('flight_price.csv')\n",
    "df.head(1)"
   ]
  },
  {
   "cell_type": "code",
   "execution_count": 4,
   "id": "d667eb33-b840-45f5-bf8d-860285a5a673",
   "metadata": {},
   "outputs": [
    {
     "name": "stdout",
     "output_type": "stream",
     "text": [
      "<class 'pandas.core.frame.DataFrame'>\n",
      "RangeIndex: 10683 entries, 0 to 10682\n",
      "Data columns (total 11 columns):\n",
      " #   Column           Non-Null Count  Dtype \n",
      "---  ------           --------------  ----- \n",
      " 0   Airline          10683 non-null  object\n",
      " 1   Date_of_Journey  10683 non-null  object\n",
      " 2   Source           10683 non-null  object\n",
      " 3   Destination      10683 non-null  object\n",
      " 4   Route            10682 non-null  object\n",
      " 5   Dep_Time         10683 non-null  object\n",
      " 6   Arrival_Time     10683 non-null  object\n",
      " 7   Duration         10683 non-null  object\n",
      " 8   Total_Stops      10682 non-null  object\n",
      " 9   Additional_Info  10683 non-null  object\n",
      " 10  Price            10683 non-null  int64 \n",
      "dtypes: int64(1), object(10)\n",
      "memory usage: 918.2+ KB\n"
     ]
    }
   ],
   "source": [
    "df.info()"
   ]
  },
  {
   "cell_type": "markdown",
   "id": "fbfcb5a6-084b-4aa0-a7bb-229e1e4968c7",
   "metadata": {},
   "source": [
    "### FEATURES\n",
    "The various features of the cleaned dataset are explained below:\n",
    "1) Airline: The name of the airline company is stored in the airline column. It is a categorical feature having 6 different airlines.\n",
    "2) Flight: Flight stores information regarding the plane's flight code. It is a categorical feature.\n",
    "3) Source City: City from which the flight takes off. It is a categorical feature having 6 unique cities.\n",
    "4) Departure Time: This is a derived categorical feature obtained created by grouping time periods into bins. It stores information about the departure time and have 6 unique time labels.\n",
    "5) Stops: A categorical feature with 3 distinct values that stores the number of stops between the source and destination cities.\n",
    "6) Arrival Time: This is a derived categorical feature created by grouping time intervals into bins. It has six distinct time labels and keeps information about the arrival time.\n",
    "7) Destination City: City where the flight will land. It is a categorical feature having 6 unique cities.\n",
    "8) Class: A categorical feature that contains information on seat class; it has two distinct values: Business and Economy.\n",
    "9) Duration: A continuous feature that displays the overall amount of time it takes to travel between cities in hours.\n",
    "10)Days Left: This is a derived characteristic that is calculated by subtracting the trip date by the booking date.\n",
    "11) Price: Target variable stores information of the ticket price."
   ]
  },
  {
   "cell_type": "markdown",
   "id": "fe65b7aa-559a-4a70-9d12-e439b6dcddd0",
   "metadata": {},
   "source": [
    "Column Breakdown:\n",
    "\n",
    "Airline – Name of the airline (e.g., IndiGo, Air India, Jet Airways)\n",
    "\n",
    "Date_of_Journey – The flight's departure date\n",
    "\n",
    "Source – Flight departure location\n",
    "\n",
    "Destination – Flight arrival location\n",
    "\n",
    "Route – Flight path (e.g., BLR → DEL)\n",
    "\n",
    "Dep_Time – Flight departure time\n",
    "\n",
    "Arrival_Time – Flight arrival time\n",
    "\n",
    "Duration – Total travel duration (e.g., \"2h 50m\")\n",
    "\n",
    "Total_Stops – Number of stops (e.g., \"non-stop\", \"1 stop\", \"2 stops\")\n",
    "\n",
    "Additional_Info – Extra details (e.g., \"No info\")\n",
    "\n",
    "Price – Flight ticket price (numeric)"
   ]
  },
  {
   "cell_type": "code",
   "execution_count": 7,
   "id": "4d2a6544-36be-4837-b973-d00a5ecd3338",
   "metadata": {},
   "outputs": [
    {
     "data": {
      "text/html": [
       "<div>\n",
       "<style scoped>\n",
       "    .dataframe tbody tr th:only-of-type {\n",
       "        vertical-align: middle;\n",
       "    }\n",
       "\n",
       "    .dataframe tbody tr th {\n",
       "        vertical-align: top;\n",
       "    }\n",
       "\n",
       "    .dataframe thead th {\n",
       "        text-align: right;\n",
       "    }\n",
       "</style>\n",
       "<table border=\"1\" class=\"dataframe\">\n",
       "  <thead>\n",
       "    <tr style=\"text-align: right;\">\n",
       "      <th></th>\n",
       "      <th>Price</th>\n",
       "    </tr>\n",
       "  </thead>\n",
       "  <tbody>\n",
       "    <tr>\n",
       "      <th>count</th>\n",
       "      <td>10683.000000</td>\n",
       "    </tr>\n",
       "    <tr>\n",
       "      <th>mean</th>\n",
       "      <td>9087.064121</td>\n",
       "    </tr>\n",
       "    <tr>\n",
       "      <th>std</th>\n",
       "      <td>4611.359167</td>\n",
       "    </tr>\n",
       "    <tr>\n",
       "      <th>min</th>\n",
       "      <td>1759.000000</td>\n",
       "    </tr>\n",
       "    <tr>\n",
       "      <th>25%</th>\n",
       "      <td>5277.000000</td>\n",
       "    </tr>\n",
       "    <tr>\n",
       "      <th>50%</th>\n",
       "      <td>8372.000000</td>\n",
       "    </tr>\n",
       "    <tr>\n",
       "      <th>75%</th>\n",
       "      <td>12373.000000</td>\n",
       "    </tr>\n",
       "    <tr>\n",
       "      <th>max</th>\n",
       "      <td>79512.000000</td>\n",
       "    </tr>\n",
       "  </tbody>\n",
       "</table>\n",
       "</div>"
      ],
      "text/plain": [
       "              Price\n",
       "count  10683.000000\n",
       "mean    9087.064121\n",
       "std     4611.359167\n",
       "min     1759.000000\n",
       "25%     5277.000000\n",
       "50%     8372.000000\n",
       "75%    12373.000000\n",
       "max    79512.000000"
      ]
     },
     "execution_count": 7,
     "metadata": {},
     "output_type": "execute_result"
    }
   ],
   "source": [
    "df.describe()"
   ]
  },
  {
   "cell_type": "code",
   "execution_count": 8,
   "id": "04f76392-afb6-4aeb-90e5-2510d75e8a4c",
   "metadata": {},
   "outputs": [
    {
     "data": {
      "text/plain": [
       "(10683, 11)"
      ]
     },
     "execution_count": 8,
     "metadata": {},
     "output_type": "execute_result"
    }
   ],
   "source": [
    "df.shape"
   ]
  },
  {
   "cell_type": "markdown",
   "id": "72794cb5-84b6-4073-ac51-382a45f7dbc8",
   "metadata": {},
   "source": [
    "### Data Cleaning"
   ]
  },
  {
   "cell_type": "markdown",
   "id": "f28550fe-9e1b-4fbc-b332-51aaebce49e1",
   "metadata": {},
   "source": [
    "#### Handling Missing Values"
   ]
  },
  {
   "cell_type": "code",
   "execution_count": 11,
   "id": "9a22b709-3282-4d4d-b1ec-d5da980ca125",
   "metadata": {},
   "outputs": [
    {
     "data": {
      "text/plain": [
       "Airline            0\n",
       "Date_of_Journey    0\n",
       "Source             0\n",
       "Destination        0\n",
       "Route              1\n",
       "Dep_Time           0\n",
       "Arrival_Time       0\n",
       "Duration           0\n",
       "Total_Stops        1\n",
       "Additional_Info    0\n",
       "Price              0\n",
       "dtype: int64"
      ]
     },
     "execution_count": 11,
     "metadata": {},
     "output_type": "execute_result"
    }
   ],
   "source": [
    "df.isnull().sum()"
   ]
  },
  {
   "cell_type": "code",
   "execution_count": 12,
   "id": "cbf30804-58e8-46bf-b707-d3293b0bcee9",
   "metadata": {},
   "outputs": [],
   "source": [
    "df['Route'].fillna(df['Route'].mode()[0],inplace=True)\n",
    "df['Total_Stops'].fillna(df['Total_Stops'].mode()[0],inplace=True)"
   ]
  },
  {
   "cell_type": "code",
   "execution_count": 13,
   "id": "00bee6a5-7b85-480a-9f4e-d9c5df0f768d",
   "metadata": {},
   "outputs": [
    {
     "data": {
      "text/plain": [
       "Airline            0\n",
       "Date_of_Journey    0\n",
       "Source             0\n",
       "Destination        0\n",
       "Route              0\n",
       "Dep_Time           0\n",
       "Arrival_Time       0\n",
       "Duration           0\n",
       "Total_Stops        0\n",
       "Additional_Info    0\n",
       "Price              0\n",
       "dtype: int64"
      ]
     },
     "execution_count": 13,
     "metadata": {},
     "output_type": "execute_result"
    }
   ],
   "source": [
    "df.isnull().sum()"
   ]
  },
  {
   "cell_type": "markdown",
   "id": "d6bce392-8a25-49de-b3ba-f04309ff854c",
   "metadata": {},
   "source": [
    "#### Handling duplicate Values"
   ]
  },
  {
   "cell_type": "code",
   "execution_count": 15,
   "id": "d4054363-1e4a-4c70-94e2-09197e886eb0",
   "metadata": {},
   "outputs": [
    {
     "data": {
      "text/plain": [
       "220"
      ]
     },
     "execution_count": 15,
     "metadata": {},
     "output_type": "execute_result"
    }
   ],
   "source": [
    "df.duplicated().sum()"
   ]
  },
  {
   "cell_type": "code",
   "execution_count": 16,
   "id": "571ee4d6-650d-452d-9b48-6d103c000d0e",
   "metadata": {},
   "outputs": [],
   "source": [
    "df=df.drop_duplicates()"
   ]
  },
  {
   "cell_type": "code",
   "execution_count": 17,
   "id": "d5f4fe0e-74be-4586-8983-4a0647057ca6",
   "metadata": {},
   "outputs": [
    {
     "data": {
      "text/plain": [
       "(10463, 11)"
      ]
     },
     "execution_count": 17,
     "metadata": {},
     "output_type": "execute_result"
    }
   ],
   "source": [
    "df.shape"
   ]
  },
  {
   "cell_type": "markdown",
   "id": "86876a0c-1310-40d0-8446-46fc8df77e0d",
   "metadata": {},
   "source": [
    "### Feature Engineering"
   ]
  },
  {
   "cell_type": "code",
   "execution_count": 19,
   "id": "6ba3fad5-4d59-4559-9c61-426b33a00a30",
   "metadata": {},
   "outputs": [],
   "source": [
    "df['Date_of_Journey']=pd.to_datetime(df['Date_of_Journey'])"
   ]
  },
  {
   "cell_type": "code",
   "execution_count": 20,
   "id": "5ae22ea1-461d-4836-9091-27f768f97eca",
   "metadata": {},
   "outputs": [],
   "source": [
    "df['Journey_Day']=df['Date_of_Journey'].dt.day\n",
    "df['Journey_Month']=df['Date_of_Journey'].dt.month\n",
    "df['Journey_Year']=df['Date_of_Journey'].dt.year"
   ]
  },
  {
   "cell_type": "code",
   "execution_count": 21,
   "id": "a5b0721c-e61e-4b95-ac5f-910fa1b456c0",
   "metadata": {},
   "outputs": [],
   "source": [
    "df['Journey_Day']=df['Journey_Day'].astype(int)\n",
    "df['Journey_Month']=df['Journey_Month'].astype(int)\n",
    "df['Journey_Year']=df['Journey_Year'].astype(int)"
   ]
  },
  {
   "cell_type": "code",
   "execution_count": 22,
   "id": "7f33a7c7-75df-455e-bc07-a3ffa1fd5ac5",
   "metadata": {},
   "outputs": [
    {
     "name": "stdout",
     "output_type": "stream",
     "text": [
      "<class 'pandas.core.frame.DataFrame'>\n",
      "Index: 10463 entries, 0 to 10682\n",
      "Data columns (total 14 columns):\n",
      " #   Column           Non-Null Count  Dtype         \n",
      "---  ------           --------------  -----         \n",
      " 0   Airline          10463 non-null  object        \n",
      " 1   Date_of_Journey  10463 non-null  datetime64[ns]\n",
      " 2   Source           10463 non-null  object        \n",
      " 3   Destination      10463 non-null  object        \n",
      " 4   Route            10463 non-null  object        \n",
      " 5   Dep_Time         10463 non-null  object        \n",
      " 6   Arrival_Time     10463 non-null  object        \n",
      " 7   Duration         10463 non-null  object        \n",
      " 8   Total_Stops      10463 non-null  object        \n",
      " 9   Additional_Info  10463 non-null  object        \n",
      " 10  Price            10463 non-null  int64         \n",
      " 11  Journey_Day      10463 non-null  int32         \n",
      " 12  Journey_Month    10463 non-null  int32         \n",
      " 13  Journey_Year     10463 non-null  int32         \n",
      "dtypes: datetime64[ns](1), int32(3), int64(1), object(9)\n",
      "memory usage: 1.1+ MB\n"
     ]
    }
   ],
   "source": [
    "df.info()"
   ]
  },
  {
   "cell_type": "code",
   "execution_count": 23,
   "id": "9279246b-3f10-44ab-885f-80a0747780f2",
   "metadata": {},
   "outputs": [],
   "source": [
    "df.drop(columns=['Date_of_Journey'],inplace=True) # Date_of_Journey is not need we already extarcted "
   ]
  },
  {
   "cell_type": "code",
   "execution_count": 24,
   "id": "8168da0b-6fbb-4e18-a18d-50f79e074fda",
   "metadata": {},
   "outputs": [
    {
     "data": {
      "text/plain": [
       "array(['22:20', '05:50', '09:25', '18:05', '16:50', '09:00', '18:55',\n",
       "       '08:00', '08:55', '11:25', '09:45', '20:20', '11:40', '21:10',\n",
       "       '17:15', '16:40', '08:45', '14:00', '20:15', '16:00', '14:10',\n",
       "       '22:00', '04:00', '21:25', '21:50', '07:00', '07:05', '09:50',\n",
       "       '14:35', '10:35', '15:05', '14:15', '06:45', '20:55', '11:10',\n",
       "       '05:45', '19:00', '23:05', '11:00', '09:35', '21:15', '23:55',\n",
       "       '19:45', '08:50', '15:40', '06:05', '15:00', '13:55', '05:55',\n",
       "       '13:20', '05:05', '06:25', '17:30', '08:20', '19:55', '06:30',\n",
       "       '14:05', '02:00', '09:40', '08:25', '20:25', '13:15', '02:15',\n",
       "       '16:55', '20:45', '05:15', '19:50', '20:00', '06:10', '19:30',\n",
       "       '04:45', '12:55', '18:15', '17:20', '15:25', '23:00', '12:00',\n",
       "       '14:45', '11:50', '11:30', '14:40', '19:10', '06:00', '23:30',\n",
       "       '07:35', '13:05', '12:30', '15:10', '12:50', '18:25', '16:30',\n",
       "       '00:40', '06:50', '13:00', '19:15', '01:30', '17:00', '10:00',\n",
       "       '19:35', '15:30', '12:10', '16:10', '20:35', '22:25', '21:05',\n",
       "       '05:35', '05:10', '06:40', '15:15', '00:30', '08:30', '07:10',\n",
       "       '05:30', '14:25', '05:25', '10:20', '17:45', '13:10', '22:10',\n",
       "       '04:55', '17:50', '21:20', '06:20', '15:55', '20:30', '17:25',\n",
       "       '09:30', '07:30', '02:35', '10:55', '17:10', '09:10', '18:45',\n",
       "       '15:20', '22:50', '14:55', '14:20', '13:25', '22:15', '11:05',\n",
       "       '16:15', '20:10', '06:55', '19:05', '07:55', '07:45', '10:10',\n",
       "       '08:15', '11:35', '21:00', '17:55', '16:45', '18:20', '03:50',\n",
       "       '08:35', '19:20', '20:05', '17:40', '04:40', '17:35', '09:55',\n",
       "       '05:00', '18:00', '02:55', '20:40', '22:55', '22:40', '21:30',\n",
       "       '08:10', '17:05', '07:25', '15:45', '09:15', '15:50', '11:45',\n",
       "       '22:05', '18:35', '00:25', '19:40', '20:50', '22:45', '10:30',\n",
       "       '23:25', '11:55', '10:45', '11:15', '12:20', '14:30', '07:15',\n",
       "       '01:35', '18:40', '09:20', '21:55', '13:50', '01:40', '00:20',\n",
       "       '04:15', '13:45', '18:30', '06:15', '02:05', '12:15', '13:30',\n",
       "       '06:35', '10:05', '08:40', '03:05', '21:35', '16:35', '02:30',\n",
       "       '16:25', '05:40', '15:35', '13:40', '07:20', '04:50', '12:45',\n",
       "       '10:25', '12:05', '11:20', '21:40', '03:00'], dtype=object)"
      ]
     },
     "execution_count": 24,
     "metadata": {},
     "output_type": "execute_result"
    }
   ],
   "source": [
    "df['Dep_Time'].unique()"
   ]
  },
  {
   "cell_type": "code",
   "execution_count": 25,
   "id": "83dd14a9-ebcc-4380-a092-c21ed5a2c07e",
   "metadata": {},
   "outputs": [],
   "source": [
    "df['Dep_Hour']=df['Dep_Time'].str.split(':').str[0]\n",
    "df['Dep_Min']=df['Dep_Time'].str.split(':').str[1]"
   ]
  },
  {
   "cell_type": "code",
   "execution_count": 26,
   "id": "fb422424-a2db-4964-9d8f-ba19e3326f84",
   "metadata": {},
   "outputs": [],
   "source": [
    "df['Dep_Hour']=df['Dep_Hour'].astype(int)\n",
    "df['Dep_Min']=df['Dep_Min'].astype(int)\n",
    "df.drop(columns=['Dep_Time'],inplace=True)"
   ]
  },
  {
   "cell_type": "code",
   "execution_count": 27,
   "id": "135ea870-fbf9-453e-a722-5bf1c0da9b62",
   "metadata": {},
   "outputs": [
    {
     "name": "stdout",
     "output_type": "stream",
     "text": [
      "<class 'pandas.core.frame.DataFrame'>\n",
      "Index: 10463 entries, 0 to 10682\n",
      "Data columns (total 14 columns):\n",
      " #   Column           Non-Null Count  Dtype \n",
      "---  ------           --------------  ----- \n",
      " 0   Airline          10463 non-null  object\n",
      " 1   Source           10463 non-null  object\n",
      " 2   Destination      10463 non-null  object\n",
      " 3   Route            10463 non-null  object\n",
      " 4   Arrival_Time     10463 non-null  object\n",
      " 5   Duration         10463 non-null  object\n",
      " 6   Total_Stops      10463 non-null  object\n",
      " 7   Additional_Info  10463 non-null  object\n",
      " 8   Price            10463 non-null  int64 \n",
      " 9   Journey_Day      10463 non-null  int32 \n",
      " 10  Journey_Month    10463 non-null  int32 \n",
      " 11  Journey_Year     10463 non-null  int32 \n",
      " 12  Dep_Hour         10463 non-null  int32 \n",
      " 13  Dep_Min          10463 non-null  int32 \n",
      "dtypes: int32(5), int64(1), object(8)\n",
      "memory usage: 1021.8+ KB\n"
     ]
    }
   ],
   "source": [
    "df.info()"
   ]
  },
  {
   "cell_type": "code",
   "execution_count": 28,
   "id": "6949e11a-13a5-47f4-9c6a-a1de798f990c",
   "metadata": {},
   "outputs": [
    {
     "data": {
      "text/plain": [
       "array(['No info', 'In-flight meal not included',\n",
       "       'No check-in baggage included', '1 Short layover', 'No Info',\n",
       "       '1 Long layover', 'Change airports', 'Business class',\n",
       "       'Red-eye flight', '2 Long layover'], dtype=object)"
      ]
     },
     "execution_count": 28,
     "metadata": {},
     "output_type": "execute_result"
    }
   ],
   "source": [
    "df['Additional_Info'].unique()"
   ]
  },
  {
   "cell_type": "code",
   "execution_count": 29,
   "id": "b2e9398f-11e0-4f77-a3c2-87f08a3f4910",
   "metadata": {},
   "outputs": [],
   "source": [
    "df['Arrival_Hour']=df['Arrival_Time'].str.split().str[0].str.split(':').str[0]\n",
    "df['Arrival_Min']=df['Arrival_Time'].str.split().str[0].str.split(':').str[1]"
   ]
  },
  {
   "cell_type": "code",
   "execution_count": 30,
   "id": "3623de91-9b0e-41d7-8b1a-6ea0592e4ccd",
   "metadata": {},
   "outputs": [],
   "source": [
    "df['Arrival_Hour']=df['Arrival_Hour'].astype(int)\n",
    "df['Arrival_Min']=df['Arrival_Min'].astype(int)"
   ]
  },
  {
   "cell_type": "code",
   "execution_count": 31,
   "id": "b45c994e-8d53-4317-b324-ac9ee85f7683",
   "metadata": {},
   "outputs": [],
   "source": [
    "df.drop(columns=['Arrival_Time'],inplace=True)"
   ]
  },
  {
   "cell_type": "code",
   "execution_count": 32,
   "id": "25f32405-4f00-42d8-b601-d73c4c8bca6a",
   "metadata": {},
   "outputs": [
    {
     "name": "stdout",
     "output_type": "stream",
     "text": [
      "<class 'pandas.core.frame.DataFrame'>\n",
      "Index: 10463 entries, 0 to 10682\n",
      "Data columns (total 15 columns):\n",
      " #   Column           Non-Null Count  Dtype \n",
      "---  ------           --------------  ----- \n",
      " 0   Airline          10463 non-null  object\n",
      " 1   Source           10463 non-null  object\n",
      " 2   Destination      10463 non-null  object\n",
      " 3   Route            10463 non-null  object\n",
      " 4   Duration         10463 non-null  object\n",
      " 5   Total_Stops      10463 non-null  object\n",
      " 6   Additional_Info  10463 non-null  object\n",
      " 7   Price            10463 non-null  int64 \n",
      " 8   Journey_Day      10463 non-null  int32 \n",
      " 9   Journey_Month    10463 non-null  int32 \n",
      " 10  Journey_Year     10463 non-null  int32 \n",
      " 11  Dep_Hour         10463 non-null  int32 \n",
      " 12  Dep_Min          10463 non-null  int32 \n",
      " 13  Arrival_Hour     10463 non-null  int32 \n",
      " 14  Arrival_Min      10463 non-null  int32 \n",
      "dtypes: int32(7), int64(1), object(7)\n",
      "memory usage: 1021.8+ KB\n"
     ]
    }
   ],
   "source": [
    "df.info()"
   ]
  },
  {
   "cell_type": "code",
   "execution_count": 33,
   "id": "e59b9194-25a9-4882-bcd8-bd13ebe18795",
   "metadata": {},
   "outputs": [],
   "source": [
    "df['Duration_Hour']=df['Duration'].str.split(' ').str[0].str.split('h').str[0]"
   ]
  },
  {
   "cell_type": "code",
   "execution_count": 34,
   "id": "1e0b88f9-7699-469a-99e1-f8307c2999a3",
   "metadata": {},
   "outputs": [],
   "source": [
    "df['Duration_min']=df['Duration'].str.split('h').str[1].str.split('m').str[0]"
   ]
  },
  {
   "cell_type": "code",
   "execution_count": 35,
   "id": "ca7b8e1b-6715-44e5-911d-8ebf8b1807fd",
   "metadata": {},
   "outputs": [],
   "source": [
    "df['Duration_min'].fillna(0,inplace=True)"
   ]
  },
  {
   "cell_type": "code",
   "execution_count": 36,
   "id": "749fb0cc-58cf-45f2-99bd-cfad712de594",
   "metadata": {},
   "outputs": [
    {
     "data": {
      "text/plain": [
       "array(['2', '7', '19', '5', '4', '15', '21', '25', '13', '12', '26', '22',\n",
       "       '23', '20', '10', '6', '11', '8', '16', '3', '27', '1', '14', '9',\n",
       "       '18', '17', '24', '30', '28', '29', '37', '34', '38', '35', '36',\n",
       "       '47', '33', '32', '31', '42', '39', '5m', '41', '40'], dtype=object)"
      ]
     },
     "execution_count": 36,
     "metadata": {},
     "output_type": "execute_result"
    }
   ],
   "source": [
    "df['Duration_Hour'].unique() # It contains value 5m (cant directly convert into int as it will give error)"
   ]
  },
  {
   "cell_type": "code",
   "execution_count": 37,
   "id": "e0b4fa0d-2d09-4877-b0e6-2fa3092c3048",
   "metadata": {},
   "outputs": [
    {
     "data": {
      "text/plain": [
       "Airline                        Air India\n",
       "Source                            Mumbai\n",
       "Destination                    Hyderabad\n",
       "Route              BOM ? GOI ? PNQ ? HYD\n",
       "Duration                              5m\n",
       "Total_Stops                      2 stops\n",
       "Additional_Info                  No info\n",
       "Price                              17327\n",
       "Journey_Day                            6\n",
       "Journey_Month                          3\n",
       "Journey_Year                        2019\n",
       "Dep_Hour                              16\n",
       "Dep_Min                               50\n",
       "Arrival_Hour                          16\n",
       "Arrival_Min                           55\n",
       "Duration_Hour                         5m\n",
       "Duration_min                           0\n",
       "Name: 6474, dtype: object"
      ]
     },
     "execution_count": 37,
     "metadata": {},
     "output_type": "execute_result"
    }
   ],
   "source": [
    "df.loc[6474] # Getting 5m(Duration_Hour) column"
   ]
  },
  {
   "cell_type": "code",
   "execution_count": 38,
   "id": "5f841252-94cf-4bb0-88e7-0ea1c63691c9",
   "metadata": {},
   "outputs": [],
   "source": [
    "df.loc[6474,'Duration_Hour']=0 # Converting it back manullay\n",
    "df.loc[6474,'Duration_min']=5"
   ]
  },
  {
   "cell_type": "code",
   "execution_count": 39,
   "id": "d8c98023-cdd9-44ed-86e2-bc096a584539",
   "metadata": {},
   "outputs": [
    {
     "data": {
      "text/plain": [
       "Airline            0\n",
       "Source             0\n",
       "Destination        0\n",
       "Route              0\n",
       "Duration           0\n",
       "Total_Stops        0\n",
       "Additional_Info    0\n",
       "Price              0\n",
       "Journey_Day        0\n",
       "Journey_Month      0\n",
       "Journey_Year       0\n",
       "Dep_Hour           0\n",
       "Dep_Min            0\n",
       "Arrival_Hour       0\n",
       "Arrival_Min        0\n",
       "Duration_Hour      0\n",
       "Duration_min       0\n",
       "dtype: int64"
      ]
     },
     "execution_count": 39,
     "metadata": {},
     "output_type": "execute_result"
    }
   ],
   "source": [
    "df.isnull().sum()"
   ]
  },
  {
   "cell_type": "code",
   "execution_count": 40,
   "id": "b75ef618-0010-4854-b12f-1de2be71cb8c",
   "metadata": {},
   "outputs": [],
   "source": [
    "df['Duration_Hour'] = pd.to_numeric(df['Duration_Hour'], errors='coerce')\n",
    "df['Duration_min'] = pd.to_numeric(df['Duration_min'], errors='coerce')\n"
   ]
  },
  {
   "cell_type": "code",
   "execution_count": 41,
   "id": "4b623ada-fb06-492f-ad7e-b1f30a657ffb",
   "metadata": {},
   "outputs": [],
   "source": [
    "df['Duration_Hour']=df['Duration_Hour'].astype(float) \n",
    "df['Duration_min']=df['Duration_min'].astype(float)"
   ]
  },
  {
   "cell_type": "code",
   "execution_count": 42,
   "id": "ca1e580f-4fdb-4659-92fe-c74a1ccc0ca3",
   "metadata": {},
   "outputs": [
    {
     "data": {
      "text/plain": [
       "Airline               0\n",
       "Source                0\n",
       "Destination           0\n",
       "Route                 0\n",
       "Duration              0\n",
       "Total_Stops           0\n",
       "Additional_Info       0\n",
       "Price                 0\n",
       "Journey_Day           0\n",
       "Journey_Month         0\n",
       "Journey_Year          0\n",
       "Dep_Hour              0\n",
       "Dep_Min               0\n",
       "Arrival_Hour          0\n",
       "Arrival_Min           0\n",
       "Duration_Hour         0\n",
       "Duration_min       1005\n",
       "dtype: int64"
      ]
     },
     "execution_count": 42,
     "metadata": {},
     "output_type": "execute_result"
    }
   ],
   "source": [
    "df.isnull().sum()"
   ]
  },
  {
   "cell_type": "code",
   "execution_count": 43,
   "id": "1f56bb2c-5f64-4b2d-87b7-eb025ae4f7e2",
   "metadata": {},
   "outputs": [],
   "source": [
    "df['Duration_Hour'].fillna(0, inplace=True)\n",
    "df['Duration_min'].fillna(0, inplace=True)"
   ]
  },
  {
   "cell_type": "code",
   "execution_count": 44,
   "id": "5e31e772-4ed5-4327-b41f-5106b571111b",
   "metadata": {},
   "outputs": [
    {
     "data": {
      "text/plain": [
       "Airline            0\n",
       "Source             0\n",
       "Destination        0\n",
       "Route              0\n",
       "Duration           0\n",
       "Total_Stops        0\n",
       "Additional_Info    0\n",
       "Price              0\n",
       "Journey_Day        0\n",
       "Journey_Month      0\n",
       "Journey_Year       0\n",
       "Dep_Hour           0\n",
       "Dep_Min            0\n",
       "Arrival_Hour       0\n",
       "Arrival_Min        0\n",
       "Duration_Hour      0\n",
       "Duration_min       0\n",
       "dtype: int64"
      ]
     },
     "execution_count": 44,
     "metadata": {},
     "output_type": "execute_result"
    }
   ],
   "source": [
    "df.isnull().sum()"
   ]
  },
  {
   "cell_type": "code",
   "execution_count": 45,
   "id": "bb24881b-2051-4dbf-b0c3-e92942370bb7",
   "metadata": {},
   "outputs": [],
   "source": [
    "df.drop(columns=['Duration'],inplace=True) # Droping the Duration it is not required as we extracted Features from it"
   ]
  },
  {
   "cell_type": "code",
   "execution_count": 46,
   "id": "444c8267-bab6-4a39-909c-64123109fc38",
   "metadata": {},
   "outputs": [
    {
     "name": "stdout",
     "output_type": "stream",
     "text": [
      "<class 'pandas.core.frame.DataFrame'>\n",
      "Index: 10463 entries, 0 to 10682\n",
      "Data columns (total 16 columns):\n",
      " #   Column           Non-Null Count  Dtype  \n",
      "---  ------           --------------  -----  \n",
      " 0   Airline          10463 non-null  object \n",
      " 1   Source           10463 non-null  object \n",
      " 2   Destination      10463 non-null  object \n",
      " 3   Route            10463 non-null  object \n",
      " 4   Total_Stops      10463 non-null  object \n",
      " 5   Additional_Info  10463 non-null  object \n",
      " 6   Price            10463 non-null  int64  \n",
      " 7   Journey_Day      10463 non-null  int32  \n",
      " 8   Journey_Month    10463 non-null  int32  \n",
      " 9   Journey_Year     10463 non-null  int32  \n",
      " 10  Dep_Hour         10463 non-null  int32  \n",
      " 11  Dep_Min          10463 non-null  int32  \n",
      " 12  Arrival_Hour     10463 non-null  int32  \n",
      " 13  Arrival_Min      10463 non-null  int32  \n",
      " 14  Duration_Hour    10463 non-null  float64\n",
      " 15  Duration_min     10463 non-null  float64\n",
      "dtypes: float64(2), int32(7), int64(1), object(6)\n",
      "memory usage: 1.3+ MB\n"
     ]
    }
   ],
   "source": [
    "df.info()"
   ]
  },
  {
   "cell_type": "code",
   "execution_count": 47,
   "id": "fb7f3b7c-ce33-4755-8372-a598215f9080",
   "metadata": {},
   "outputs": [],
   "source": [
    "df.drop(columns=['Additional_Info','Route'],inplace=True) # Route and AdditionalInfo is not required so droping them"
   ]
  },
  {
   "cell_type": "code",
   "execution_count": 48,
   "id": "2fb188cc-9f21-49f1-9475-a33864fb278d",
   "metadata": {},
   "outputs": [
    {
     "name": "stdout",
     "output_type": "stream",
     "text": [
      "<class 'pandas.core.frame.DataFrame'>\n",
      "Index: 10463 entries, 0 to 10682\n",
      "Data columns (total 14 columns):\n",
      " #   Column         Non-Null Count  Dtype  \n",
      "---  ------         --------------  -----  \n",
      " 0   Airline        10463 non-null  object \n",
      " 1   Source         10463 non-null  object \n",
      " 2   Destination    10463 non-null  object \n",
      " 3   Total_Stops    10463 non-null  object \n",
      " 4   Price          10463 non-null  int64  \n",
      " 5   Journey_Day    10463 non-null  int32  \n",
      " 6   Journey_Month  10463 non-null  int32  \n",
      " 7   Journey_Year   10463 non-null  int32  \n",
      " 8   Dep_Hour       10463 non-null  int32  \n",
      " 9   Dep_Min        10463 non-null  int32  \n",
      " 10  Arrival_Hour   10463 non-null  int32  \n",
      " 11  Arrival_Min    10463 non-null  int32  \n",
      " 12  Duration_Hour  10463 non-null  float64\n",
      " 13  Duration_min   10463 non-null  float64\n",
      "dtypes: float64(2), int32(7), int64(1), object(4)\n",
      "memory usage: 1.2+ MB\n"
     ]
    }
   ],
   "source": [
    "df.info()"
   ]
  },
  {
   "cell_type": "code",
   "execution_count": 49,
   "id": "c22cf9d5-7aa2-4296-9eb0-0829ee9c43f9",
   "metadata": {},
   "outputs": [
    {
     "data": {
      "text/plain": [
       "array(['non-stop', '2 stops', '1 stop', '3 stops', '4 stops'],\n",
       "      dtype=object)"
      ]
     },
     "execution_count": 49,
     "metadata": {},
     "output_type": "execute_result"
    }
   ],
   "source": [
    "df['Total_Stops'].unique() # Getting stop unique values"
   ]
  },
  {
   "cell_type": "code",
   "execution_count": 50,
   "id": "c6316dcd-9b53-4f0d-8060-2edc8d28a57b",
   "metadata": {},
   "outputs": [],
   "source": [
    "# Converting stops column to numerical column\n",
    "df['Total_Stops']=df['Total_Stops'].map({\n",
    "    'non-stop':0\n",
    "    , '2 stops':2,\n",
    "    '1 stop':1, \n",
    "    '3 stops':3, \n",
    "    '4 stops':4\n",
    "})  "
   ]
  },
  {
   "cell_type": "code",
   "execution_count": 51,
   "id": "ebdd906d-0ba0-4c7e-8015-1875c22a2122",
   "metadata": {},
   "outputs": [],
   "source": [
    "df['Total_Stops']=df['Total_Stops'].astype(int) "
   ]
  },
  {
   "cell_type": "code",
   "execution_count": 52,
   "id": "b05d7882-5727-4a88-bf36-b3bd6382323f",
   "metadata": {},
   "outputs": [
    {
     "name": "stdout",
     "output_type": "stream",
     "text": [
      "<class 'pandas.core.frame.DataFrame'>\n",
      "Index: 10463 entries, 0 to 10682\n",
      "Data columns (total 14 columns):\n",
      " #   Column         Non-Null Count  Dtype  \n",
      "---  ------         --------------  -----  \n",
      " 0   Airline        10463 non-null  object \n",
      " 1   Source         10463 non-null  object \n",
      " 2   Destination    10463 non-null  object \n",
      " 3   Total_Stops    10463 non-null  int32  \n",
      " 4   Price          10463 non-null  int64  \n",
      " 5   Journey_Day    10463 non-null  int32  \n",
      " 6   Journey_Month  10463 non-null  int32  \n",
      " 7   Journey_Year   10463 non-null  int32  \n",
      " 8   Dep_Hour       10463 non-null  int32  \n",
      " 9   Dep_Min        10463 non-null  int32  \n",
      " 10  Arrival_Hour   10463 non-null  int32  \n",
      " 11  Arrival_Min    10463 non-null  int32  \n",
      " 12  Duration_Hour  10463 non-null  float64\n",
      " 13  Duration_min   10463 non-null  float64\n",
      "dtypes: float64(2), int32(8), int64(1), object(3)\n",
      "memory usage: 1.1+ MB\n"
     ]
    }
   ],
   "source": [
    "df.info()"
   ]
  },
  {
   "cell_type": "code",
   "execution_count": 53,
   "id": "8d145e9e-045f-4cef-9e76-870515a98c69",
   "metadata": {},
   "outputs": [],
   "source": [
    "# Encoding"
   ]
  },
  {
   "cell_type": "code",
   "execution_count": 54,
   "id": "4e89ad22-38a7-4c61-8a51-2c35e6ff4132",
   "metadata": {},
   "outputs": [],
   "source": [
    "from sklearn.preprocessing import OneHotEncoder"
   ]
  },
  {
   "cell_type": "code",
   "execution_count": 55,
   "id": "35202593-d681-47de-9d5e-332bfe28a217",
   "metadata": {},
   "outputs": [],
   "source": [
    "encoder=OneHotEncoder(sparse_output=False, drop='first')"
   ]
  },
  {
   "cell_type": "code",
   "execution_count": 56,
   "id": "09eb5135-1be8-460f-98e1-a4c6a507cf50",
   "metadata": {},
   "outputs": [],
   "source": [
    "categorical_cols = ['Airline', 'Source', 'Destination']\n"
   ]
  },
  {
   "cell_type": "code",
   "execution_count": 57,
   "id": "1050db2e-5109-4b88-a17c-3cd785abdd1f",
   "metadata": {},
   "outputs": [],
   "source": [
    "encoded_cols = pd.DataFrame(\n",
    "    encoder.fit_transform(df[categorical_cols]),\n",
    "    columns=encoder.get_feature_names_out(categorical_cols)  # Get meaningful column names\n",
    ")"
   ]
  },
  {
   "cell_type": "code",
   "execution_count": 58,
   "id": "e1c67003-2a09-4b10-8afd-505c393eda75",
   "metadata": {},
   "outputs": [
    {
     "data": {
      "text/html": [
       "<div>\n",
       "<style scoped>\n",
       "    .dataframe tbody tr th:only-of-type {\n",
       "        vertical-align: middle;\n",
       "    }\n",
       "\n",
       "    .dataframe tbody tr th {\n",
       "        vertical-align: top;\n",
       "    }\n",
       "\n",
       "    .dataframe thead th {\n",
       "        text-align: right;\n",
       "    }\n",
       "</style>\n",
       "<table border=\"1\" class=\"dataframe\">\n",
       "  <thead>\n",
       "    <tr style=\"text-align: right;\">\n",
       "      <th></th>\n",
       "      <th>Airline_Air India</th>\n",
       "      <th>Airline_GoAir</th>\n",
       "      <th>Airline_IndiGo</th>\n",
       "      <th>Airline_Jet Airways</th>\n",
       "      <th>Airline_Jet Airways Business</th>\n",
       "      <th>Airline_Multiple carriers</th>\n",
       "      <th>Airline_Multiple carriers Premium economy</th>\n",
       "      <th>Airline_SpiceJet</th>\n",
       "      <th>Airline_Trujet</th>\n",
       "      <th>Airline_Vistara</th>\n",
       "      <th>Airline_Vistara Premium economy</th>\n",
       "      <th>Source_Chennai</th>\n",
       "      <th>Source_Delhi</th>\n",
       "      <th>Source_Kolkata</th>\n",
       "      <th>Source_Mumbai</th>\n",
       "      <th>Destination_Cochin</th>\n",
       "      <th>Destination_Delhi</th>\n",
       "      <th>Destination_Hyderabad</th>\n",
       "      <th>Destination_Kolkata</th>\n",
       "      <th>Destination_New Delhi</th>\n",
       "    </tr>\n",
       "  </thead>\n",
       "  <tbody>\n",
       "    <tr>\n",
       "      <th>0</th>\n",
       "      <td>0.0</td>\n",
       "      <td>0.0</td>\n",
       "      <td>1.0</td>\n",
       "      <td>0.0</td>\n",
       "      <td>0.0</td>\n",
       "      <td>0.0</td>\n",
       "      <td>0.0</td>\n",
       "      <td>0.0</td>\n",
       "      <td>0.0</td>\n",
       "      <td>0.0</td>\n",
       "      <td>0.0</td>\n",
       "      <td>0.0</td>\n",
       "      <td>0.0</td>\n",
       "      <td>0.0</td>\n",
       "      <td>0.0</td>\n",
       "      <td>0.0</td>\n",
       "      <td>0.0</td>\n",
       "      <td>0.0</td>\n",
       "      <td>0.0</td>\n",
       "      <td>1.0</td>\n",
       "    </tr>\n",
       "    <tr>\n",
       "      <th>1</th>\n",
       "      <td>1.0</td>\n",
       "      <td>0.0</td>\n",
       "      <td>0.0</td>\n",
       "      <td>0.0</td>\n",
       "      <td>0.0</td>\n",
       "      <td>0.0</td>\n",
       "      <td>0.0</td>\n",
       "      <td>0.0</td>\n",
       "      <td>0.0</td>\n",
       "      <td>0.0</td>\n",
       "      <td>0.0</td>\n",
       "      <td>0.0</td>\n",
       "      <td>0.0</td>\n",
       "      <td>1.0</td>\n",
       "      <td>0.0</td>\n",
       "      <td>0.0</td>\n",
       "      <td>0.0</td>\n",
       "      <td>0.0</td>\n",
       "      <td>0.0</td>\n",
       "      <td>0.0</td>\n",
       "    </tr>\n",
       "    <tr>\n",
       "      <th>2</th>\n",
       "      <td>0.0</td>\n",
       "      <td>0.0</td>\n",
       "      <td>0.0</td>\n",
       "      <td>1.0</td>\n",
       "      <td>0.0</td>\n",
       "      <td>0.0</td>\n",
       "      <td>0.0</td>\n",
       "      <td>0.0</td>\n",
       "      <td>0.0</td>\n",
       "      <td>0.0</td>\n",
       "      <td>0.0</td>\n",
       "      <td>0.0</td>\n",
       "      <td>1.0</td>\n",
       "      <td>0.0</td>\n",
       "      <td>0.0</td>\n",
       "      <td>1.0</td>\n",
       "      <td>0.0</td>\n",
       "      <td>0.0</td>\n",
       "      <td>0.0</td>\n",
       "      <td>0.0</td>\n",
       "    </tr>\n",
       "    <tr>\n",
       "      <th>3</th>\n",
       "      <td>0.0</td>\n",
       "      <td>0.0</td>\n",
       "      <td>1.0</td>\n",
       "      <td>0.0</td>\n",
       "      <td>0.0</td>\n",
       "      <td>0.0</td>\n",
       "      <td>0.0</td>\n",
       "      <td>0.0</td>\n",
       "      <td>0.0</td>\n",
       "      <td>0.0</td>\n",
       "      <td>0.0</td>\n",
       "      <td>0.0</td>\n",
       "      <td>0.0</td>\n",
       "      <td>1.0</td>\n",
       "      <td>0.0</td>\n",
       "      <td>0.0</td>\n",
       "      <td>0.0</td>\n",
       "      <td>0.0</td>\n",
       "      <td>0.0</td>\n",
       "      <td>0.0</td>\n",
       "    </tr>\n",
       "    <tr>\n",
       "      <th>4</th>\n",
       "      <td>0.0</td>\n",
       "      <td>0.0</td>\n",
       "      <td>1.0</td>\n",
       "      <td>0.0</td>\n",
       "      <td>0.0</td>\n",
       "      <td>0.0</td>\n",
       "      <td>0.0</td>\n",
       "      <td>0.0</td>\n",
       "      <td>0.0</td>\n",
       "      <td>0.0</td>\n",
       "      <td>0.0</td>\n",
       "      <td>0.0</td>\n",
       "      <td>0.0</td>\n",
       "      <td>0.0</td>\n",
       "      <td>0.0</td>\n",
       "      <td>0.0</td>\n",
       "      <td>0.0</td>\n",
       "      <td>0.0</td>\n",
       "      <td>0.0</td>\n",
       "      <td>1.0</td>\n",
       "    </tr>\n",
       "    <tr>\n",
       "      <th>...</th>\n",
       "      <td>...</td>\n",
       "      <td>...</td>\n",
       "      <td>...</td>\n",
       "      <td>...</td>\n",
       "      <td>...</td>\n",
       "      <td>...</td>\n",
       "      <td>...</td>\n",
       "      <td>...</td>\n",
       "      <td>...</td>\n",
       "      <td>...</td>\n",
       "      <td>...</td>\n",
       "      <td>...</td>\n",
       "      <td>...</td>\n",
       "      <td>...</td>\n",
       "      <td>...</td>\n",
       "      <td>...</td>\n",
       "      <td>...</td>\n",
       "      <td>...</td>\n",
       "      <td>...</td>\n",
       "      <td>...</td>\n",
       "    </tr>\n",
       "    <tr>\n",
       "      <th>10458</th>\n",
       "      <td>0.0</td>\n",
       "      <td>0.0</td>\n",
       "      <td>0.0</td>\n",
       "      <td>0.0</td>\n",
       "      <td>0.0</td>\n",
       "      <td>0.0</td>\n",
       "      <td>0.0</td>\n",
       "      <td>0.0</td>\n",
       "      <td>0.0</td>\n",
       "      <td>0.0</td>\n",
       "      <td>0.0</td>\n",
       "      <td>0.0</td>\n",
       "      <td>0.0</td>\n",
       "      <td>1.0</td>\n",
       "      <td>0.0</td>\n",
       "      <td>0.0</td>\n",
       "      <td>0.0</td>\n",
       "      <td>0.0</td>\n",
       "      <td>0.0</td>\n",
       "      <td>0.0</td>\n",
       "    </tr>\n",
       "    <tr>\n",
       "      <th>10459</th>\n",
       "      <td>1.0</td>\n",
       "      <td>0.0</td>\n",
       "      <td>0.0</td>\n",
       "      <td>0.0</td>\n",
       "      <td>0.0</td>\n",
       "      <td>0.0</td>\n",
       "      <td>0.0</td>\n",
       "      <td>0.0</td>\n",
       "      <td>0.0</td>\n",
       "      <td>0.0</td>\n",
       "      <td>0.0</td>\n",
       "      <td>0.0</td>\n",
       "      <td>0.0</td>\n",
       "      <td>1.0</td>\n",
       "      <td>0.0</td>\n",
       "      <td>0.0</td>\n",
       "      <td>0.0</td>\n",
       "      <td>0.0</td>\n",
       "      <td>0.0</td>\n",
       "      <td>0.0</td>\n",
       "    </tr>\n",
       "    <tr>\n",
       "      <th>10460</th>\n",
       "      <td>0.0</td>\n",
       "      <td>0.0</td>\n",
       "      <td>0.0</td>\n",
       "      <td>1.0</td>\n",
       "      <td>0.0</td>\n",
       "      <td>0.0</td>\n",
       "      <td>0.0</td>\n",
       "      <td>0.0</td>\n",
       "      <td>0.0</td>\n",
       "      <td>0.0</td>\n",
       "      <td>0.0</td>\n",
       "      <td>0.0</td>\n",
       "      <td>0.0</td>\n",
       "      <td>0.0</td>\n",
       "      <td>0.0</td>\n",
       "      <td>0.0</td>\n",
       "      <td>1.0</td>\n",
       "      <td>0.0</td>\n",
       "      <td>0.0</td>\n",
       "      <td>0.0</td>\n",
       "    </tr>\n",
       "    <tr>\n",
       "      <th>10461</th>\n",
       "      <td>0.0</td>\n",
       "      <td>0.0</td>\n",
       "      <td>0.0</td>\n",
       "      <td>0.0</td>\n",
       "      <td>0.0</td>\n",
       "      <td>0.0</td>\n",
       "      <td>0.0</td>\n",
       "      <td>0.0</td>\n",
       "      <td>0.0</td>\n",
       "      <td>1.0</td>\n",
       "      <td>0.0</td>\n",
       "      <td>0.0</td>\n",
       "      <td>0.0</td>\n",
       "      <td>0.0</td>\n",
       "      <td>0.0</td>\n",
       "      <td>0.0</td>\n",
       "      <td>0.0</td>\n",
       "      <td>0.0</td>\n",
       "      <td>0.0</td>\n",
       "      <td>1.0</td>\n",
       "    </tr>\n",
       "    <tr>\n",
       "      <th>10462</th>\n",
       "      <td>1.0</td>\n",
       "      <td>0.0</td>\n",
       "      <td>0.0</td>\n",
       "      <td>0.0</td>\n",
       "      <td>0.0</td>\n",
       "      <td>0.0</td>\n",
       "      <td>0.0</td>\n",
       "      <td>0.0</td>\n",
       "      <td>0.0</td>\n",
       "      <td>0.0</td>\n",
       "      <td>0.0</td>\n",
       "      <td>0.0</td>\n",
       "      <td>1.0</td>\n",
       "      <td>0.0</td>\n",
       "      <td>0.0</td>\n",
       "      <td>1.0</td>\n",
       "      <td>0.0</td>\n",
       "      <td>0.0</td>\n",
       "      <td>0.0</td>\n",
       "      <td>0.0</td>\n",
       "    </tr>\n",
       "  </tbody>\n",
       "</table>\n",
       "<p>10463 rows × 20 columns</p>\n",
       "</div>"
      ],
      "text/plain": [
       "       Airline_Air India  Airline_GoAir  Airline_IndiGo  Airline_Jet Airways  \\\n",
       "0                    0.0            0.0             1.0                  0.0   \n",
       "1                    1.0            0.0             0.0                  0.0   \n",
       "2                    0.0            0.0             0.0                  1.0   \n",
       "3                    0.0            0.0             1.0                  0.0   \n",
       "4                    0.0            0.0             1.0                  0.0   \n",
       "...                  ...            ...             ...                  ...   \n",
       "10458                0.0            0.0             0.0                  0.0   \n",
       "10459                1.0            0.0             0.0                  0.0   \n",
       "10460                0.0            0.0             0.0                  1.0   \n",
       "10461                0.0            0.0             0.0                  0.0   \n",
       "10462                1.0            0.0             0.0                  0.0   \n",
       "\n",
       "       Airline_Jet Airways Business  Airline_Multiple carriers  \\\n",
       "0                               0.0                        0.0   \n",
       "1                               0.0                        0.0   \n",
       "2                               0.0                        0.0   \n",
       "3                               0.0                        0.0   \n",
       "4                               0.0                        0.0   \n",
       "...                             ...                        ...   \n",
       "10458                           0.0                        0.0   \n",
       "10459                           0.0                        0.0   \n",
       "10460                           0.0                        0.0   \n",
       "10461                           0.0                        0.0   \n",
       "10462                           0.0                        0.0   \n",
       "\n",
       "       Airline_Multiple carriers Premium economy  Airline_SpiceJet  \\\n",
       "0                                            0.0               0.0   \n",
       "1                                            0.0               0.0   \n",
       "2                                            0.0               0.0   \n",
       "3                                            0.0               0.0   \n",
       "4                                            0.0               0.0   \n",
       "...                                          ...               ...   \n",
       "10458                                        0.0               0.0   \n",
       "10459                                        0.0               0.0   \n",
       "10460                                        0.0               0.0   \n",
       "10461                                        0.0               0.0   \n",
       "10462                                        0.0               0.0   \n",
       "\n",
       "       Airline_Trujet  Airline_Vistara  Airline_Vistara Premium economy  \\\n",
       "0                 0.0              0.0                              0.0   \n",
       "1                 0.0              0.0                              0.0   \n",
       "2                 0.0              0.0                              0.0   \n",
       "3                 0.0              0.0                              0.0   \n",
       "4                 0.0              0.0                              0.0   \n",
       "...               ...              ...                              ...   \n",
       "10458             0.0              0.0                              0.0   \n",
       "10459             0.0              0.0                              0.0   \n",
       "10460             0.0              0.0                              0.0   \n",
       "10461             0.0              1.0                              0.0   \n",
       "10462             0.0              0.0                              0.0   \n",
       "\n",
       "       Source_Chennai  Source_Delhi  Source_Kolkata  Source_Mumbai  \\\n",
       "0                 0.0           0.0             0.0            0.0   \n",
       "1                 0.0           0.0             1.0            0.0   \n",
       "2                 0.0           1.0             0.0            0.0   \n",
       "3                 0.0           0.0             1.0            0.0   \n",
       "4                 0.0           0.0             0.0            0.0   \n",
       "...               ...           ...             ...            ...   \n",
       "10458             0.0           0.0             1.0            0.0   \n",
       "10459             0.0           0.0             1.0            0.0   \n",
       "10460             0.0           0.0             0.0            0.0   \n",
       "10461             0.0           0.0             0.0            0.0   \n",
       "10462             0.0           1.0             0.0            0.0   \n",
       "\n",
       "       Destination_Cochin  Destination_Delhi  Destination_Hyderabad  \\\n",
       "0                     0.0                0.0                    0.0   \n",
       "1                     0.0                0.0                    0.0   \n",
       "2                     1.0                0.0                    0.0   \n",
       "3                     0.0                0.0                    0.0   \n",
       "4                     0.0                0.0                    0.0   \n",
       "...                   ...                ...                    ...   \n",
       "10458                 0.0                0.0                    0.0   \n",
       "10459                 0.0                0.0                    0.0   \n",
       "10460                 0.0                1.0                    0.0   \n",
       "10461                 0.0                0.0                    0.0   \n",
       "10462                 1.0                0.0                    0.0   \n",
       "\n",
       "       Destination_Kolkata  Destination_New Delhi  \n",
       "0                      0.0                    1.0  \n",
       "1                      0.0                    0.0  \n",
       "2                      0.0                    0.0  \n",
       "3                      0.0                    0.0  \n",
       "4                      0.0                    1.0  \n",
       "...                    ...                    ...  \n",
       "10458                  0.0                    0.0  \n",
       "10459                  0.0                    0.0  \n",
       "10460                  0.0                    0.0  \n",
       "10461                  0.0                    1.0  \n",
       "10462                  0.0                    0.0  \n",
       "\n",
       "[10463 rows x 20 columns]"
      ]
     },
     "execution_count": 58,
     "metadata": {},
     "output_type": "execute_result"
    }
   ],
   "source": [
    "encoded_cols"
   ]
  },
  {
   "cell_type": "code",
   "execution_count": 59,
   "id": "d9cc114a-9fff-4d68-8567-4b87e5d917fb",
   "metadata": {},
   "outputs": [],
   "source": [
    "# Reset the index to match df\n",
    "encoded_cols.index = df.index  \n",
    "\n",
    "# Drop original categorical columns\n",
    "df.drop(columns=categorical_cols, inplace=True)\n",
    "\n",
    "# Concatenate the encoded features with the original dataframe\n",
    "df = pd.concat([df, encoded_cols], axis=1)"
   ]
  },
  {
   "cell_type": "code",
   "execution_count": 117,
   "id": "77477d97-fb49-4407-97bb-ceec09e4ff40",
   "metadata": {},
   "outputs": [
    {
     "data": {
      "text/html": [
       "<div>\n",
       "<style scoped>\n",
       "    .dataframe tbody tr th:only-of-type {\n",
       "        vertical-align: middle;\n",
       "    }\n",
       "\n",
       "    .dataframe tbody tr th {\n",
       "        vertical-align: top;\n",
       "    }\n",
       "\n",
       "    .dataframe thead th {\n",
       "        text-align: right;\n",
       "    }\n",
       "</style>\n",
       "<table border=\"1\" class=\"dataframe\">\n",
       "  <thead>\n",
       "    <tr style=\"text-align: right;\">\n",
       "      <th></th>\n",
       "      <th>Total_Stops</th>\n",
       "      <th>Price</th>\n",
       "      <th>Journey_Day</th>\n",
       "      <th>Journey_Month</th>\n",
       "      <th>Journey_Year</th>\n",
       "      <th>Dep_Hour</th>\n",
       "      <th>Dep_Min</th>\n",
       "      <th>Arrival_Hour</th>\n",
       "      <th>Arrival_Min</th>\n",
       "      <th>Duration_Hour</th>\n",
       "      <th>...</th>\n",
       "      <th>Airline_Vistara Premium economy</th>\n",
       "      <th>Source_Chennai</th>\n",
       "      <th>Source_Delhi</th>\n",
       "      <th>Source_Kolkata</th>\n",
       "      <th>Source_Mumbai</th>\n",
       "      <th>Destination_Cochin</th>\n",
       "      <th>Destination_Delhi</th>\n",
       "      <th>Destination_Hyderabad</th>\n",
       "      <th>Destination_Kolkata</th>\n",
       "      <th>Destination_New Delhi</th>\n",
       "    </tr>\n",
       "  </thead>\n",
       "  <tbody>\n",
       "    <tr>\n",
       "      <th>0</th>\n",
       "      <td>0</td>\n",
       "      <td>3897</td>\n",
       "      <td>24</td>\n",
       "      <td>3</td>\n",
       "      <td>2019</td>\n",
       "      <td>22</td>\n",
       "      <td>20</td>\n",
       "      <td>1</td>\n",
       "      <td>10</td>\n",
       "      <td>2.0</td>\n",
       "      <td>...</td>\n",
       "      <td>0.0</td>\n",
       "      <td>0.0</td>\n",
       "      <td>0.0</td>\n",
       "      <td>0.0</td>\n",
       "      <td>0.0</td>\n",
       "      <td>0.0</td>\n",
       "      <td>0.0</td>\n",
       "      <td>0.0</td>\n",
       "      <td>0.0</td>\n",
       "      <td>1.0</td>\n",
       "    </tr>\n",
       "    <tr>\n",
       "      <th>1</th>\n",
       "      <td>2</td>\n",
       "      <td>7662</td>\n",
       "      <td>1</td>\n",
       "      <td>5</td>\n",
       "      <td>2019</td>\n",
       "      <td>5</td>\n",
       "      <td>50</td>\n",
       "      <td>13</td>\n",
       "      <td>15</td>\n",
       "      <td>7.0</td>\n",
       "      <td>...</td>\n",
       "      <td>0.0</td>\n",
       "      <td>0.0</td>\n",
       "      <td>0.0</td>\n",
       "      <td>1.0</td>\n",
       "      <td>0.0</td>\n",
       "      <td>0.0</td>\n",
       "      <td>0.0</td>\n",
       "      <td>0.0</td>\n",
       "      <td>0.0</td>\n",
       "      <td>0.0</td>\n",
       "    </tr>\n",
       "    <tr>\n",
       "      <th>2</th>\n",
       "      <td>2</td>\n",
       "      <td>13882</td>\n",
       "      <td>9</td>\n",
       "      <td>6</td>\n",
       "      <td>2019</td>\n",
       "      <td>9</td>\n",
       "      <td>25</td>\n",
       "      <td>4</td>\n",
       "      <td>25</td>\n",
       "      <td>19.0</td>\n",
       "      <td>...</td>\n",
       "      <td>0.0</td>\n",
       "      <td>0.0</td>\n",
       "      <td>1.0</td>\n",
       "      <td>0.0</td>\n",
       "      <td>0.0</td>\n",
       "      <td>1.0</td>\n",
       "      <td>0.0</td>\n",
       "      <td>0.0</td>\n",
       "      <td>0.0</td>\n",
       "      <td>0.0</td>\n",
       "    </tr>\n",
       "    <tr>\n",
       "      <th>3</th>\n",
       "      <td>1</td>\n",
       "      <td>6218</td>\n",
       "      <td>12</td>\n",
       "      <td>5</td>\n",
       "      <td>2019</td>\n",
       "      <td>18</td>\n",
       "      <td>5</td>\n",
       "      <td>23</td>\n",
       "      <td>30</td>\n",
       "      <td>5.0</td>\n",
       "      <td>...</td>\n",
       "      <td>0.0</td>\n",
       "      <td>0.0</td>\n",
       "      <td>0.0</td>\n",
       "      <td>1.0</td>\n",
       "      <td>0.0</td>\n",
       "      <td>0.0</td>\n",
       "      <td>0.0</td>\n",
       "      <td>0.0</td>\n",
       "      <td>0.0</td>\n",
       "      <td>0.0</td>\n",
       "    </tr>\n",
       "    <tr>\n",
       "      <th>4</th>\n",
       "      <td>1</td>\n",
       "      <td>13302</td>\n",
       "      <td>1</td>\n",
       "      <td>3</td>\n",
       "      <td>2019</td>\n",
       "      <td>16</td>\n",
       "      <td>50</td>\n",
       "      <td>21</td>\n",
       "      <td>35</td>\n",
       "      <td>4.0</td>\n",
       "      <td>...</td>\n",
       "      <td>0.0</td>\n",
       "      <td>0.0</td>\n",
       "      <td>0.0</td>\n",
       "      <td>0.0</td>\n",
       "      <td>0.0</td>\n",
       "      <td>0.0</td>\n",
       "      <td>0.0</td>\n",
       "      <td>0.0</td>\n",
       "      <td>0.0</td>\n",
       "      <td>1.0</td>\n",
       "    </tr>\n",
       "    <tr>\n",
       "      <th>...</th>\n",
       "      <td>...</td>\n",
       "      <td>...</td>\n",
       "      <td>...</td>\n",
       "      <td>...</td>\n",
       "      <td>...</td>\n",
       "      <td>...</td>\n",
       "      <td>...</td>\n",
       "      <td>...</td>\n",
       "      <td>...</td>\n",
       "      <td>...</td>\n",
       "      <td>...</td>\n",
       "      <td>...</td>\n",
       "      <td>...</td>\n",
       "      <td>...</td>\n",
       "      <td>...</td>\n",
       "      <td>...</td>\n",
       "      <td>...</td>\n",
       "      <td>...</td>\n",
       "      <td>...</td>\n",
       "      <td>...</td>\n",
       "      <td>...</td>\n",
       "    </tr>\n",
       "    <tr>\n",
       "      <th>10678</th>\n",
       "      <td>0</td>\n",
       "      <td>4107</td>\n",
       "      <td>9</td>\n",
       "      <td>4</td>\n",
       "      <td>2019</td>\n",
       "      <td>19</td>\n",
       "      <td>55</td>\n",
       "      <td>22</td>\n",
       "      <td>25</td>\n",
       "      <td>2.0</td>\n",
       "      <td>...</td>\n",
       "      <td>0.0</td>\n",
       "      <td>0.0</td>\n",
       "      <td>0.0</td>\n",
       "      <td>1.0</td>\n",
       "      <td>0.0</td>\n",
       "      <td>0.0</td>\n",
       "      <td>0.0</td>\n",
       "      <td>0.0</td>\n",
       "      <td>0.0</td>\n",
       "      <td>0.0</td>\n",
       "    </tr>\n",
       "    <tr>\n",
       "      <th>10679</th>\n",
       "      <td>0</td>\n",
       "      <td>4145</td>\n",
       "      <td>27</td>\n",
       "      <td>4</td>\n",
       "      <td>2019</td>\n",
       "      <td>20</td>\n",
       "      <td>45</td>\n",
       "      <td>23</td>\n",
       "      <td>20</td>\n",
       "      <td>2.0</td>\n",
       "      <td>...</td>\n",
       "      <td>0.0</td>\n",
       "      <td>0.0</td>\n",
       "      <td>0.0</td>\n",
       "      <td>1.0</td>\n",
       "      <td>0.0</td>\n",
       "      <td>0.0</td>\n",
       "      <td>0.0</td>\n",
       "      <td>0.0</td>\n",
       "      <td>0.0</td>\n",
       "      <td>0.0</td>\n",
       "    </tr>\n",
       "    <tr>\n",
       "      <th>10680</th>\n",
       "      <td>0</td>\n",
       "      <td>7229</td>\n",
       "      <td>27</td>\n",
       "      <td>4</td>\n",
       "      <td>2019</td>\n",
       "      <td>8</td>\n",
       "      <td>20</td>\n",
       "      <td>11</td>\n",
       "      <td>20</td>\n",
       "      <td>3.0</td>\n",
       "      <td>...</td>\n",
       "      <td>0.0</td>\n",
       "      <td>0.0</td>\n",
       "      <td>0.0</td>\n",
       "      <td>0.0</td>\n",
       "      <td>0.0</td>\n",
       "      <td>0.0</td>\n",
       "      <td>1.0</td>\n",
       "      <td>0.0</td>\n",
       "      <td>0.0</td>\n",
       "      <td>0.0</td>\n",
       "    </tr>\n",
       "    <tr>\n",
       "      <th>10681</th>\n",
       "      <td>0</td>\n",
       "      <td>12648</td>\n",
       "      <td>1</td>\n",
       "      <td>3</td>\n",
       "      <td>2019</td>\n",
       "      <td>11</td>\n",
       "      <td>30</td>\n",
       "      <td>14</td>\n",
       "      <td>10</td>\n",
       "      <td>2.0</td>\n",
       "      <td>...</td>\n",
       "      <td>0.0</td>\n",
       "      <td>0.0</td>\n",
       "      <td>0.0</td>\n",
       "      <td>0.0</td>\n",
       "      <td>0.0</td>\n",
       "      <td>0.0</td>\n",
       "      <td>0.0</td>\n",
       "      <td>0.0</td>\n",
       "      <td>0.0</td>\n",
       "      <td>1.0</td>\n",
       "    </tr>\n",
       "    <tr>\n",
       "      <th>10682</th>\n",
       "      <td>2</td>\n",
       "      <td>11753</td>\n",
       "      <td>9</td>\n",
       "      <td>5</td>\n",
       "      <td>2019</td>\n",
       "      <td>10</td>\n",
       "      <td>55</td>\n",
       "      <td>19</td>\n",
       "      <td>15</td>\n",
       "      <td>8.0</td>\n",
       "      <td>...</td>\n",
       "      <td>0.0</td>\n",
       "      <td>0.0</td>\n",
       "      <td>1.0</td>\n",
       "      <td>0.0</td>\n",
       "      <td>0.0</td>\n",
       "      <td>1.0</td>\n",
       "      <td>0.0</td>\n",
       "      <td>0.0</td>\n",
       "      <td>0.0</td>\n",
       "      <td>0.0</td>\n",
       "    </tr>\n",
       "  </tbody>\n",
       "</table>\n",
       "<p>10463 rows × 31 columns</p>\n",
       "</div>"
      ],
      "text/plain": [
       "       Total_Stops  Price  Journey_Day  Journey_Month  Journey_Year  Dep_Hour  \\\n",
       "0                0   3897           24              3          2019        22   \n",
       "1                2   7662            1              5          2019         5   \n",
       "2                2  13882            9              6          2019         9   \n",
       "3                1   6218           12              5          2019        18   \n",
       "4                1  13302            1              3          2019        16   \n",
       "...            ...    ...          ...            ...           ...       ...   \n",
       "10678            0   4107            9              4          2019        19   \n",
       "10679            0   4145           27              4          2019        20   \n",
       "10680            0   7229           27              4          2019         8   \n",
       "10681            0  12648            1              3          2019        11   \n",
       "10682            2  11753            9              5          2019        10   \n",
       "\n",
       "       Dep_Min  Arrival_Hour  Arrival_Min  Duration_Hour  ...  \\\n",
       "0           20             1           10            2.0  ...   \n",
       "1           50            13           15            7.0  ...   \n",
       "2           25             4           25           19.0  ...   \n",
       "3            5            23           30            5.0  ...   \n",
       "4           50            21           35            4.0  ...   \n",
       "...        ...           ...          ...            ...  ...   \n",
       "10678       55            22           25            2.0  ...   \n",
       "10679       45            23           20            2.0  ...   \n",
       "10680       20            11           20            3.0  ...   \n",
       "10681       30            14           10            2.0  ...   \n",
       "10682       55            19           15            8.0  ...   \n",
       "\n",
       "       Airline_Vistara Premium economy  Source_Chennai  Source_Delhi  \\\n",
       "0                                  0.0             0.0           0.0   \n",
       "1                                  0.0             0.0           0.0   \n",
       "2                                  0.0             0.0           1.0   \n",
       "3                                  0.0             0.0           0.0   \n",
       "4                                  0.0             0.0           0.0   \n",
       "...                                ...             ...           ...   \n",
       "10678                              0.0             0.0           0.0   \n",
       "10679                              0.0             0.0           0.0   \n",
       "10680                              0.0             0.0           0.0   \n",
       "10681                              0.0             0.0           0.0   \n",
       "10682                              0.0             0.0           1.0   \n",
       "\n",
       "       Source_Kolkata  Source_Mumbai  Destination_Cochin  Destination_Delhi  \\\n",
       "0                 0.0            0.0                 0.0                0.0   \n",
       "1                 1.0            0.0                 0.0                0.0   \n",
       "2                 0.0            0.0                 1.0                0.0   \n",
       "3                 1.0            0.0                 0.0                0.0   \n",
       "4                 0.0            0.0                 0.0                0.0   \n",
       "...               ...            ...                 ...                ...   \n",
       "10678             1.0            0.0                 0.0                0.0   \n",
       "10679             1.0            0.0                 0.0                0.0   \n",
       "10680             0.0            0.0                 0.0                1.0   \n",
       "10681             0.0            0.0                 0.0                0.0   \n",
       "10682             0.0            0.0                 1.0                0.0   \n",
       "\n",
       "       Destination_Hyderabad  Destination_Kolkata  Destination_New Delhi  \n",
       "0                        0.0                  0.0                    1.0  \n",
       "1                        0.0                  0.0                    0.0  \n",
       "2                        0.0                  0.0                    0.0  \n",
       "3                        0.0                  0.0                    0.0  \n",
       "4                        0.0                  0.0                    1.0  \n",
       "...                      ...                  ...                    ...  \n",
       "10678                    0.0                  0.0                    0.0  \n",
       "10679                    0.0                  0.0                    0.0  \n",
       "10680                    0.0                  0.0                    0.0  \n",
       "10681                    0.0                  0.0                    1.0  \n",
       "10682                    0.0                  0.0                    0.0  \n",
       "\n",
       "[10463 rows x 31 columns]"
      ]
     },
     "execution_count": 117,
     "metadata": {},
     "output_type": "execute_result"
    }
   ],
   "source": [
    "df # All coulmns are in numerical"
   ]
  },
  {
   "cell_type": "code",
   "execution_count": 61,
   "id": "c0733c06-4108-4059-880c-1c2e68757911",
   "metadata": {},
   "outputs": [
    {
     "name": "stdout",
     "output_type": "stream",
     "text": [
      "<class 'pandas.core.frame.DataFrame'>\n",
      "Index: 10463 entries, 0 to 10682\n",
      "Data columns (total 31 columns):\n",
      " #   Column                                     Non-Null Count  Dtype  \n",
      "---  ------                                     --------------  -----  \n",
      " 0   Total_Stops                                10463 non-null  int32  \n",
      " 1   Price                                      10463 non-null  int64  \n",
      " 2   Journey_Day                                10463 non-null  int32  \n",
      " 3   Journey_Month                              10463 non-null  int32  \n",
      " 4   Journey_Year                               10463 non-null  int32  \n",
      " 5   Dep_Hour                                   10463 non-null  int32  \n",
      " 6   Dep_Min                                    10463 non-null  int32  \n",
      " 7   Arrival_Hour                               10463 non-null  int32  \n",
      " 8   Arrival_Min                                10463 non-null  int32  \n",
      " 9   Duration_Hour                              10463 non-null  float64\n",
      " 10  Duration_min                               10463 non-null  float64\n",
      " 11  Airline_Air India                          10463 non-null  float64\n",
      " 12  Airline_GoAir                              10463 non-null  float64\n",
      " 13  Airline_IndiGo                             10463 non-null  float64\n",
      " 14  Airline_Jet Airways                        10463 non-null  float64\n",
      " 15  Airline_Jet Airways Business               10463 non-null  float64\n",
      " 16  Airline_Multiple carriers                  10463 non-null  float64\n",
      " 17  Airline_Multiple carriers Premium economy  10463 non-null  float64\n",
      " 18  Airline_SpiceJet                           10463 non-null  float64\n",
      " 19  Airline_Trujet                             10463 non-null  float64\n",
      " 20  Airline_Vistara                            10463 non-null  float64\n",
      " 21  Airline_Vistara Premium economy            10463 non-null  float64\n",
      " 22  Source_Chennai                             10463 non-null  float64\n",
      " 23  Source_Delhi                               10463 non-null  float64\n",
      " 24  Source_Kolkata                             10463 non-null  float64\n",
      " 25  Source_Mumbai                              10463 non-null  float64\n",
      " 26  Destination_Cochin                         10463 non-null  float64\n",
      " 27  Destination_Delhi                          10463 non-null  float64\n",
      " 28  Destination_Hyderabad                      10463 non-null  float64\n",
      " 29  Destination_Kolkata                        10463 non-null  float64\n",
      " 30  Destination_New Delhi                      10463 non-null  float64\n",
      "dtypes: float64(22), int32(8), int64(1)\n",
      "memory usage: 2.5 MB\n"
     ]
    }
   ],
   "source": [
    "df.info() # AtLast all columns are in numerical columns ,which is processed"
   ]
  },
  {
   "cell_type": "code",
   "execution_count": null,
   "id": "a887fcbc-e5b3-452b-85df-2a7f3413757f",
   "metadata": {},
   "outputs": [],
   "source": []
  }
 ],
 "metadata": {
  "kernelspec": {
   "display_name": "Python 3 (ipykernel)",
   "language": "python",
   "name": "python3"
  },
  "language_info": {
   "codemirror_mode": {
    "name": "ipython",
    "version": 3
   },
   "file_extension": ".py",
   "mimetype": "text/x-python",
   "name": "python",
   "nbconvert_exporter": "python",
   "pygments_lexer": "ipython3",
   "version": "3.12.7"
  }
 },
 "nbformat": 4,
 "nbformat_minor": 5
}
