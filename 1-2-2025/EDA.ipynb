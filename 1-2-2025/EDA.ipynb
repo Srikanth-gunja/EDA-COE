{
 "cells": [
  {
   "cell_type": "markdown",
   "id": "052192b1",
   "metadata": {},
   "source": [
    "# Module:1\n",
    "\n",
    "### Data Understanding\n",
    "- Numerical \n",
    "    - Continuous(e.g height,weight)\n",
    "    - Discrete(eg. no.of children)\n",
    "- Categorical\n",
    "    - Labels (e.g gender,feedback)\n",
    "- Ordinal\n",
    "    - Ordered categories (e.g education levels)\n",
    "\n",
    "#### Variable Types\n",
    "- Dependent (Target)\n",
    "- Independent (Features)\n",
    "\n",
    "#### Data Types and Memory Mangement\n",
    "\n",
    "``"
   ]
  },
  {
   "cell_type": "code",
   "execution_count": 1,
   "id": "aac219ed",
   "metadata": {},
   "outputs": [],
   "source": [
    "### Reading Data From Database"
   ]
  },
  {
   "cell_type": "code",
   "execution_count": 1,
   "id": "57e14bc4",
   "metadata": {},
   "outputs": [
    {
     "name": "stdout",
     "output_type": "stream",
     "text": [
      "Requirement already satisfied: sqlalchemy in c:\\users\\cvr\\anaconda3\\lib\\site-packages (1.4.39)\n",
      "Requirement already satisfied: greenlet!=0.4.17 in c:\\users\\cvr\\anaconda3\\lib\\site-packages (from sqlalchemy) (2.0.1)\n"
     ]
    }
   ],
   "source": []
  },
  {
   "cell_type": "code",
   "execution_count": null,
   "id": "8d13ddd4",
   "metadata": {},
   "outputs": [],
   "source": [
    "# import pandas as pd\n",
    "# from sqlalchemy import create_engine\n",
    "\n",
    "# username='root'\n",
    "# password='root'\n",
    "# host='localhost'\n",
    "# database='cvr'\n",
    "# con=f'mysql+mysqlconnector://{username}:{password}@{host}/{database}'\n",
    "\n",
    "#  eng=create_engine(con)\n",
    "#  # Read data from MySQL into a pandas DataFrame\n",
    "#  df_sql = pd.read_sql('SELECT * FROM players', eng)\n",
    "# \n",
    "#  # Display the DataFrame\n",
    "#  print(df_sql)\n",
    "#  print(df_sql.dtypes)\n",
    "\n",
    "# df_csv=pd.read_csv('sample_data.csv')\n",
    "# print(df_csv)\n",
    "#  df_excel=pd.read_excel('student.xlsx')\n",
    "#  merged_df=pd.merge(\n",
    "#      pd.merge(df_sql,df_csv,on='id',how='outer')\n",
    "#      ,df_excel,on='id',how='outer'\n",
    "#  )\n",
    "\n",
    "# print(merged_df.info())\n",
    "# \n",
    "#  print(merged_df.memory_usage())"
   ]
  },
  {
   "cell_type": "code",
   "execution_count": 1,
   "id": "97804b9c",
   "metadata": {},
   "outputs": [],
   "source": [
    "# !pip install mysql_connector_python"
   ]
  },
  {
   "cell_type": "code",
   "execution_count": 7,
   "id": "12bfe211",
   "metadata": {},
   "outputs": [],
   "source": [
    "import pandas as pd\n",
    "import numpy as np"
   ]
  },
  {
   "cell_type": "code",
   "execution_count": 4,
   "id": "8a036e76",
   "metadata": {},
   "outputs": [
    {
     "data": {
      "text/html": [
       "<div>\n",
       "<style scoped>\n",
       "    .dataframe tbody tr th:only-of-type {\n",
       "        vertical-align: middle;\n",
       "    }\n",
       "\n",
       "    .dataframe tbody tr th {\n",
       "        vertical-align: top;\n",
       "    }\n",
       "\n",
       "    .dataframe thead th {\n",
       "        text-align: right;\n",
       "    }\n",
       "</style>\n",
       "<table border=\"1\" class=\"dataframe\">\n",
       "  <thead>\n",
       "    <tr style=\"text-align: right;\">\n",
       "      <th></th>\n",
       "      <th>id</th>\n",
       "      <th>name</th>\n",
       "      <th>score</th>\n",
       "      <th>city</th>\n",
       "      <th>is_active</th>\n",
       "    </tr>\n",
       "  </thead>\n",
       "  <tbody>\n",
       "    <tr>\n",
       "      <th>0</th>\n",
       "      <td>1</td>\n",
       "      <td>Bob</td>\n",
       "      <td>92</td>\n",
       "      <td>Hyderabad</td>\n",
       "      <td>1.0</td>\n",
       "    </tr>\n",
       "    <tr>\n",
       "      <th>1</th>\n",
       "      <td>5</td>\n",
       "      <td>John</td>\n",
       "      <td>55</td>\n",
       "      <td>Los Angeles</td>\n",
       "      <td>0.0</td>\n",
       "    </tr>\n",
       "    <tr>\n",
       "      <th>2</th>\n",
       "      <td>6</td>\n",
       "      <td>Mary</td>\n",
       "      <td>88</td>\n",
       "      <td>NaN</td>\n",
       "      <td>NaN</td>\n",
       "    </tr>\n",
       "    <tr>\n",
       "      <th>3</th>\n",
       "      <td>7</td>\n",
       "      <td>James</td>\n",
       "      <td>65</td>\n",
       "      <td>Miami</td>\n",
       "      <td>1.0</td>\n",
       "    </tr>\n",
       "    <tr>\n",
       "      <th>4</th>\n",
       "      <td>8</td>\n",
       "      <td>NaN</td>\n",
       "      <td>72</td>\n",
       "      <td>NaN</td>\n",
       "      <td>1.0</td>\n",
       "    </tr>\n",
       "    <tr>\n",
       "      <th>5</th>\n",
       "      <td>9</td>\n",
       "      <td>Luke</td>\n",
       "      <td>80</td>\n",
       "      <td>Boston</td>\n",
       "      <td>0.0</td>\n",
       "    </tr>\n",
       "    <tr>\n",
       "      <th>6</th>\n",
       "      <td>10</td>\n",
       "      <td>NaN</td>\n",
       "      <td>90</td>\n",
       "      <td>Seattle</td>\n",
       "      <td>1.0</td>\n",
       "    </tr>\n",
       "  </tbody>\n",
       "</table>\n",
       "</div>"
      ],
      "text/plain": [
       "   id   name  score         city  is_active\n",
       "0   1    Bob     92    Hyderabad        1.0\n",
       "1   5   John     55  Los Angeles        0.0\n",
       "2   6   Mary     88          NaN        NaN\n",
       "3   7  James     65        Miami        1.0\n",
       "4   8    NaN     72          NaN        1.0\n",
       "5   9   Luke     80       Boston        0.0\n",
       "6  10    NaN     90      Seattle        1.0"
      ]
     },
     "execution_count": 4,
     "metadata": {},
     "output_type": "execute_result"
    }
   ],
   "source": [
    "df=pd.read_csv('sample_data.csv')\n",
    "df"
   ]
  },
  {
   "cell_type": "code",
   "execution_count": 5,
   "id": "ed548a51",
   "metadata": {},
   "outputs": [
    {
     "name": "stdout",
     "output_type": "stream",
     "text": [
      "<class 'pandas.core.frame.DataFrame'>\n",
      "RangeIndex: 7 entries, 0 to 6\n",
      "Data columns (total 5 columns):\n",
      " #   Column     Non-Null Count  Dtype  \n",
      "---  ------     --------------  -----  \n",
      " 0   id         7 non-null      int64  \n",
      " 1   name       5 non-null      object \n",
      " 2   score      7 non-null      int64  \n",
      " 3   city       5 non-null      object \n",
      " 4   is_active  6 non-null      float64\n",
      "dtypes: float64(1), int64(2), object(2)\n",
      "memory usage: 412.0+ bytes\n"
     ]
    }
   ],
   "source": [
    "df.info()"
   ]
  },
  {
   "cell_type": "code",
   "execution_count": 6,
   "id": "c49851ee",
   "metadata": {},
   "outputs": [
    {
     "data": {
      "text/plain": [
       "Index        132\n",
       "id            56\n",
       "name         369\n",
       "score         56\n",
       "city         387\n",
       "is_active     56\n",
       "dtype: int64"
      ]
     },
     "execution_count": 6,
     "metadata": {},
     "output_type": "execute_result"
    }
   ],
   "source": [
    "df.memory_usage(deep=True)"
   ]
  },
  {
   "cell_type": "code",
   "execution_count": null,
   "id": "0b715f0e",
   "metadata": {},
   "outputs": [],
   "source": [
    "# Reducing the bits to reduce memory for each cell"
   ]
  },
  {
   "cell_type": "code",
   "execution_count": 10,
   "id": "364de57c",
   "metadata": {},
   "outputs": [],
   "source": [
    "df['id']=df['id'].astype(np.int8) # convet int64 to int8\n",
    "df['is_active']=df['is_active'].astype(np.float16)\n",
    "df['score']=df['score'].astype(np.int16)"
   ]
  },
  {
   "cell_type": "code",
   "execution_count": 11,
   "id": "26e5acf9",
   "metadata": {},
   "outputs": [
    {
     "name": "stdout",
     "output_type": "stream",
     "text": [
      "<class 'pandas.core.frame.DataFrame'>\n",
      "RangeIndex: 7 entries, 0 to 6\n",
      "Data columns (total 5 columns):\n",
      " #   Column     Non-Null Count  Dtype  \n",
      "---  ------     --------------  -----  \n",
      " 0   id         7 non-null      int8   \n",
      " 1   name       5 non-null      object \n",
      " 2   score      7 non-null      int16  \n",
      " 3   city       5 non-null      object \n",
      " 4   is_active  6 non-null      float16\n",
      "dtypes: float16(1), int16(1), int8(1), object(2)\n",
      "memory usage: 279.0+ bytes\n"
     ]
    }
   ],
   "source": [
    "df.info()"
   ]
  },
  {
   "cell_type": "code",
   "execution_count": 12,
   "id": "fbf6fd83",
   "metadata": {},
   "outputs": [
    {
     "data": {
      "text/plain": [
       "Index        132\n",
       "id             7\n",
       "name         369\n",
       "score         14\n",
       "city         387\n",
       "is_active     14\n",
       "dtype: int64"
      ]
     },
     "execution_count": 12,
     "metadata": {},
     "output_type": "execute_result"
    }
   ],
   "source": [
    "df.memory_usage(deep=True)"
   ]
  },
  {
   "cell_type": "code",
   "execution_count": 13,
   "id": "e95fb3b7",
   "metadata": {},
   "outputs": [],
   "source": [
    "# For Categories to Reduce memory\n",
    "df['city']=df['city'].astype('category')"
   ]
  },
  {
   "cell_type": "code",
   "execution_count": 15,
   "id": "95fbc93f",
   "metadata": {},
   "outputs": [
    {
     "data": {
      "text/plain": [
       "Index        132\n",
       "id             7\n",
       "name         369\n",
       "score         14\n",
       "city         502\n",
       "is_active     14\n",
       "dtype: int64"
      ]
     },
     "execution_count": 15,
     "metadata": {},
     "output_type": "execute_result"
    }
   ],
   "source": [
    "df.memory_usage(deep=True)"
   ]
  },
  {
   "cell_type": "code",
   "execution_count": 17,
   "id": "ded223a8",
   "metadata": {},
   "outputs": [
    {
     "name": "stdout",
     "output_type": "stream",
     "text": [
      "<class 'pandas.core.frame.DataFrame'>\n",
      "RangeIndex: 7 entries, 0 to 6\n",
      "Data columns (total 5 columns):\n",
      " #   Column     Non-Null Count  Dtype   \n",
      "---  ------     --------------  -----   \n",
      " 0   id         7 non-null      int8    \n",
      " 1   name       5 non-null      object  \n",
      " 2   score      7 non-null      int16   \n",
      " 3   city       5 non-null      category\n",
      " 4   is_active  6 non-null      float16 \n",
      "dtypes: category(1), float16(1), int16(1), int8(1), object(1)\n",
      "memory usage: 442.0+ bytes\n"
     ]
    }
   ],
   "source": [
    "df.info()"
   ]
  },
  {
   "cell_type": "markdown",
   "id": "8d7c9187",
   "metadata": {},
   "source": [
    "# Module-2 Data Cleaning \n",
    "- Missing values\n",
    "    - To Count `isnull()` , `isna()`\n",
    "    - To drop `dropna()`\n",
    "    - Handle `fillna()` \n",
    "- Duplicate Values\n",
    "    - To Identitfy `df.duplicated()` \n",
    "    - To Drop `drop_duplicates()`"
   ]
  },
  {
   "cell_type": "code",
   "execution_count": 18,
   "id": "d4121d8f",
   "metadata": {},
   "outputs": [],
   "source": [
    "import pandas as pd\n",
    "import numpy as np\n"
   ]
  },
  {
   "cell_type": "code",
   "execution_count": 24,
   "id": "9d7cf60d",
   "metadata": {},
   "outputs": [],
   "source": [
    "df=pd.read_csv('data job posts.csv')"
   ]
  },
  {
   "cell_type": "code",
   "execution_count": 25,
   "id": "4b9994ac",
   "metadata": {},
   "outputs": [
    {
     "data": {
      "text/plain": [
       "(19001, 24)"
      ]
     },
     "execution_count": 25,
     "metadata": {},
     "output_type": "execute_result"
    }
   ],
   "source": [
    "df.shape"
   ]
  },
  {
   "cell_type": "code",
   "execution_count": 23,
   "id": "7c20824b",
   "metadata": {},
   "outputs": [
    {
     "data": {
      "text/plain": [
       "jobpost                 0\n",
       "date                    0\n",
       "Title                  28\n",
       "Company                 7\n",
       "AnnouncementCode    17793\n",
       "Term                11325\n",
       "Eligibility         14071\n",
       "Audience            18361\n",
       "StartDate            9326\n",
       "Duration             8203\n",
       "Location               32\n",
       "JobDescription       3892\n",
       "JobRequirment        2522\n",
       "RequiredQual          484\n",
       "Salary               9379\n",
       "ApplicationP           60\n",
       "OpeningDate           706\n",
       "Deadline               65\n",
       "Notes               16790\n",
       "AboutC               6531\n",
       "Attach              17442\n",
       "Year                    0\n",
       "Month                   0\n",
       "IT                      0\n",
       "dtype: int64"
      ]
     },
     "execution_count": 23,
     "metadata": {},
     "output_type": "execute_result"
    }
   ],
   "source": [
    "## \n",
    "df.isna().sum()"
   ]
  },
  {
   "cell_type": "code",
   "execution_count": 26,
   "id": "fb771565",
   "metadata": {},
   "outputs": [
    {
     "name": "stdout",
     "output_type": "stream",
     "text": [
      "<class 'pandas.core.frame.DataFrame'>\n",
      "RangeIndex: 19001 entries, 0 to 19000\n",
      "Data columns (total 24 columns):\n",
      " #   Column            Non-Null Count  Dtype \n",
      "---  ------            --------------  ----- \n",
      " 0   jobpost           19001 non-null  object\n",
      " 1   date              19001 non-null  object\n",
      " 2   Title             18973 non-null  object\n",
      " 3   Company           18994 non-null  object\n",
      " 4   AnnouncementCode  1208 non-null   object\n",
      " 5   Term              7676 non-null   object\n",
      " 6   Eligibility       4930 non-null   object\n",
      " 7   Audience          640 non-null    object\n",
      " 8   StartDate         9675 non-null   object\n",
      " 9   Duration          10798 non-null  object\n",
      " 10  Location          18969 non-null  object\n",
      " 11  JobDescription    15109 non-null  object\n",
      " 12  JobRequirment     16479 non-null  object\n",
      " 13  RequiredQual      18517 non-null  object\n",
      " 14  Salary            9622 non-null   object\n",
      " 15  ApplicationP      18941 non-null  object\n",
      " 16  OpeningDate       18295 non-null  object\n",
      " 17  Deadline          18936 non-null  object\n",
      " 18  Notes             2211 non-null   object\n",
      " 19  AboutC            12470 non-null  object\n",
      " 20  Attach            1559 non-null   object\n",
      " 21  Year              19001 non-null  int64 \n",
      " 22  Month             19001 non-null  int64 \n",
      " 23  IT                19001 non-null  bool  \n",
      "dtypes: bool(1), int64(2), object(21)\n",
      "memory usage: 3.4+ MB\n"
     ]
    }
   ],
   "source": [
    "df.info()"
   ]
  },
  {
   "cell_type": "markdown",
   "id": "fc9f870d",
   "metadata": {},
   "source": [
    "### 1 . Handling Missing Values"
   ]
  },
  {
   "cell_type": "code",
   "execution_count": 27,
   "id": "5484e0fd",
   "metadata": {},
   "outputs": [
    {
     "data": {
      "text/plain": [
       "jobpost                 0\n",
       "date                    0\n",
       "Title                  28\n",
       "Company                 7\n",
       "AnnouncementCode    17793\n",
       "Term                11325\n",
       "Eligibility         14071\n",
       "Audience            18361\n",
       "StartDate            9326\n",
       "Duration             8203\n",
       "Location               32\n",
       "JobDescription       3892\n",
       "JobRequirment        2522\n",
       "RequiredQual          484\n",
       "Salary               9379\n",
       "ApplicationP           60\n",
       "OpeningDate           706\n",
       "Deadline               65\n",
       "Notes               16790\n",
       "AboutC               6531\n",
       "Attach              17442\n",
       "Year                    0\n",
       "Month                   0\n",
       "IT                      0\n",
       "dtype: int64"
      ]
     },
     "execution_count": 27,
     "metadata": {},
     "output_type": "execute_result"
    }
   ],
   "source": [
    "# Check Null Values\n",
    "df.isnull().sum()"
   ]
  },
  {
   "cell_type": "code",
   "execution_count": 31,
   "id": "d0f1f0ed",
   "metadata": {},
   "outputs": [
    {
     "data": {
      "text/plain": [
       "0                     AMERIA Investment Consulting Company\n",
       "1          International Research & Exchanges Board (IREX)\n",
       "2                Caucasus Environmental NGO Network (CENN)\n",
       "3                                             Manoff Group\n",
       "4                                   Yerevan Brandy Company\n",
       "                               ...                        \n",
       "18996                                Technolinguistics NGO\n",
       "18997    \"Coca-Cola Hellenic Bottling Company Armenia\" ...\n",
       "18998    \"Coca-Cola Hellenic Bottling Company Armenia\" ...\n",
       "18999                                    San Lazzaro   LLC\n",
       "19000                                    \"Kamurj\" UCO CJSC\n",
       "Name: Company, Length: 19001, dtype: object"
      ]
     },
     "execution_count": 31,
     "metadata": {},
     "output_type": "execute_result"
    }
   ],
   "source": [
    "df['Title']\n",
    "df['Company']\n"
   ]
  },
  {
   "cell_type": "code",
   "execution_count": 33,
   "id": "a036cdce",
   "metadata": {},
   "outputs": [
    {
     "data": {
      "text/plain": [
       "array([nan, '04-12', 'INT 04/003', ..., 'GPHY-FC', 'GPHY-SM', 'GPHY-SPA'],\n",
       "      dtype=object)"
      ]
     },
     "execution_count": 33,
     "metadata": {},
     "output_type": "execute_result"
    }
   ],
   "source": [
    "df['AnnouncementCode'].unique()"
   ]
  },
  {
   "cell_type": "markdown",
   "id": "c2981e5a",
   "metadata": {},
   "source": [
    "### 4. Splitting"
   ]
  },
  {
   "cell_type": "code",
   "execution_count": 34,
   "id": "7741c4a9",
   "metadata": {},
   "outputs": [
    {
     "ename": "NameError",
     "evalue": "name 'c_df' is not defined",
     "output_type": "error",
     "traceback": [
      "\u001b[1;31m---------------------------------------------------------------------------\u001b[0m",
      "\u001b[1;31mNameError\u001b[0m                                 Traceback (most recent call last)",
      "Cell \u001b[1;32mIn[34], line 1\u001b[0m\n\u001b[1;32m----> 1\u001b[0m c_df\n",
      "\u001b[1;31mNameError\u001b[0m: name 'c_df' is not defined"
     ]
    }
   ],
   "source": [
    "c_df"
   ]
  },
  {
   "cell_type": "code",
   "execution_count": null,
   "id": "dd0fc199",
   "metadata": {},
   "outputs": [],
   "source": []
  }
 ],
 "metadata": {
  "kernelspec": {
   "display_name": "Python 3 (ipykernel)",
   "language": "python",
   "name": "python3"
  },
  "language_info": {
   "codemirror_mode": {
    "name": "ipython",
    "version": 3
   },
   "file_extension": ".py",
   "mimetype": "text/x-python",
   "name": "python",
   "nbconvert_exporter": "python",
   "pygments_lexer": "ipython3",
   "version": "3.11.5"
  }
 },
 "nbformat": 4,
 "nbformat_minor": 5
}
